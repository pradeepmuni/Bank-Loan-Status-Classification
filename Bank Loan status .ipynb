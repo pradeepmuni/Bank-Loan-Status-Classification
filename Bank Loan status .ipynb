{
 "cells": [
  {
   "cell_type": "markdown",
   "metadata": {},
   "source": [
    "# Importing the Necessary Libraries"
   ]
  },
  {
   "cell_type": "code",
   "execution_count": 1,
   "metadata": {},
   "outputs": [],
   "source": [
    "import numpy as np\n",
    "import pandas as pd\n",
    "import matplotlib.pyplot as plt\n",
    "import seaborn as sns\n",
    "%matplotlib inline"
   ]
  },
  {
   "cell_type": "markdown",
   "metadata": {},
   "source": [
    "# Reading the dataset"
   ]
  },
  {
   "cell_type": "code",
   "execution_count": 2,
   "metadata": {},
   "outputs": [],
   "source": [
    "df= pd.read_csv(r'C:\\Univ\\3rd Semester\\project\\credit_bank.csv')"
   ]
  },
  {
   "cell_type": "code",
   "execution_count": 3,
   "metadata": {},
   "outputs": [
    {
     "data": {
      "text/html": [
       "<div>\n",
       "<style scoped>\n",
       "    .dataframe tbody tr th:only-of-type {\n",
       "        vertical-align: middle;\n",
       "    }\n",
       "\n",
       "    .dataframe tbody tr th {\n",
       "        vertical-align: top;\n",
       "    }\n",
       "\n",
       "    .dataframe thead th {\n",
       "        text-align: right;\n",
       "    }\n",
       "</style>\n",
       "<table border=\"1\" class=\"dataframe\">\n",
       "  <thead>\n",
       "    <tr style=\"text-align: right;\">\n",
       "      <th></th>\n",
       "      <th>Loan ID</th>\n",
       "      <th>Customer ID</th>\n",
       "      <th>Loan Status</th>\n",
       "      <th>Current Loan Amount</th>\n",
       "      <th>Term</th>\n",
       "      <th>Credit Score</th>\n",
       "      <th>Annual Income</th>\n",
       "      <th>Years in current job</th>\n",
       "      <th>Home Ownership</th>\n",
       "      <th>Purpose</th>\n",
       "      <th>Monthly Debt</th>\n",
       "      <th>Years of Credit History</th>\n",
       "      <th>Months since last delinquent</th>\n",
       "      <th>Number of Open Accounts</th>\n",
       "      <th>Number of Credit Problems</th>\n",
       "      <th>Current Credit Balance</th>\n",
       "      <th>Maximum Open Credit</th>\n",
       "      <th>Bankruptcies</th>\n",
       "      <th>Tax Liens</th>\n",
       "    </tr>\n",
       "  </thead>\n",
       "  <tbody>\n",
       "    <tr>\n",
       "      <th>0</th>\n",
       "      <td>14dd8831-6af5-400b-83ec-68e61888a048</td>\n",
       "      <td>981165ec-3274-42f5-a3b4-d104041a9ca9</td>\n",
       "      <td>Fully Paid</td>\n",
       "      <td>445412.0</td>\n",
       "      <td>Short Term</td>\n",
       "      <td>709.0</td>\n",
       "      <td>1167493.0</td>\n",
       "      <td>8 years</td>\n",
       "      <td>Home Mortgage</td>\n",
       "      <td>Home Improvements</td>\n",
       "      <td>5214.74</td>\n",
       "      <td>17.2</td>\n",
       "      <td>NaN</td>\n",
       "      <td>6.0</td>\n",
       "      <td>1.0</td>\n",
       "      <td>228190.0</td>\n",
       "      <td>416746.0</td>\n",
       "      <td>1.0</td>\n",
       "      <td>0.0</td>\n",
       "    </tr>\n",
       "    <tr>\n",
       "      <th>1</th>\n",
       "      <td>4771cc26-131a-45db-b5aa-537ea4ba5342</td>\n",
       "      <td>2de017a3-2e01-49cb-a581-08169e83be29</td>\n",
       "      <td>Fully Paid</td>\n",
       "      <td>262328.0</td>\n",
       "      <td>Short Term</td>\n",
       "      <td>NaN</td>\n",
       "      <td>NaN</td>\n",
       "      <td>10+ years</td>\n",
       "      <td>Home Mortgage</td>\n",
       "      <td>Debt Consolidation</td>\n",
       "      <td>33295.98</td>\n",
       "      <td>21.1</td>\n",
       "      <td>8.0</td>\n",
       "      <td>35.0</td>\n",
       "      <td>0.0</td>\n",
       "      <td>229976.0</td>\n",
       "      <td>850784.0</td>\n",
       "      <td>0.0</td>\n",
       "      <td>0.0</td>\n",
       "    </tr>\n",
       "    <tr>\n",
       "      <th>2</th>\n",
       "      <td>4eed4e6a-aa2f-4c91-8651-ce984ee8fb26</td>\n",
       "      <td>5efb2b2b-bf11-4dfd-a572-3761a2694725</td>\n",
       "      <td>Fully Paid</td>\n",
       "      <td>99999999.0</td>\n",
       "      <td>Short Term</td>\n",
       "      <td>741.0</td>\n",
       "      <td>2231892.0</td>\n",
       "      <td>8 years</td>\n",
       "      <td>Own Home</td>\n",
       "      <td>Debt Consolidation</td>\n",
       "      <td>29200.53</td>\n",
       "      <td>14.9</td>\n",
       "      <td>29.0</td>\n",
       "      <td>18.0</td>\n",
       "      <td>1.0</td>\n",
       "      <td>297996.0</td>\n",
       "      <td>750090.0</td>\n",
       "      <td>0.0</td>\n",
       "      <td>0.0</td>\n",
       "    </tr>\n",
       "    <tr>\n",
       "      <th>3</th>\n",
       "      <td>77598f7b-32e7-4e3b-a6e5-06ba0d98fe8a</td>\n",
       "      <td>e777faab-98ae-45af-9a86-7ce5b33b1011</td>\n",
       "      <td>Fully Paid</td>\n",
       "      <td>347666.0</td>\n",
       "      <td>Long Term</td>\n",
       "      <td>721.0</td>\n",
       "      <td>806949.0</td>\n",
       "      <td>3 years</td>\n",
       "      <td>Own Home</td>\n",
       "      <td>Debt Consolidation</td>\n",
       "      <td>8741.90</td>\n",
       "      <td>12.0</td>\n",
       "      <td>NaN</td>\n",
       "      <td>9.0</td>\n",
       "      <td>0.0</td>\n",
       "      <td>256329.0</td>\n",
       "      <td>386958.0</td>\n",
       "      <td>0.0</td>\n",
       "      <td>0.0</td>\n",
       "    </tr>\n",
       "    <tr>\n",
       "      <th>4</th>\n",
       "      <td>d4062e70-befa-4995-8643-a0de73938182</td>\n",
       "      <td>81536ad9-5ccf-4eb8-befb-47a4d608658e</td>\n",
       "      <td>Fully Paid</td>\n",
       "      <td>176220.0</td>\n",
       "      <td>Short Term</td>\n",
       "      <td>NaN</td>\n",
       "      <td>NaN</td>\n",
       "      <td>5 years</td>\n",
       "      <td>Rent</td>\n",
       "      <td>Debt Consolidation</td>\n",
       "      <td>20639.70</td>\n",
       "      <td>6.1</td>\n",
       "      <td>NaN</td>\n",
       "      <td>15.0</td>\n",
       "      <td>0.0</td>\n",
       "      <td>253460.0</td>\n",
       "      <td>427174.0</td>\n",
       "      <td>0.0</td>\n",
       "      <td>0.0</td>\n",
       "    </tr>\n",
       "  </tbody>\n",
       "</table>\n",
       "</div>"
      ],
      "text/plain": [
       "                                Loan ID                           Customer ID  \\\n",
       "0  14dd8831-6af5-400b-83ec-68e61888a048  981165ec-3274-42f5-a3b4-d104041a9ca9   \n",
       "1  4771cc26-131a-45db-b5aa-537ea4ba5342  2de017a3-2e01-49cb-a581-08169e83be29   \n",
       "2  4eed4e6a-aa2f-4c91-8651-ce984ee8fb26  5efb2b2b-bf11-4dfd-a572-3761a2694725   \n",
       "3  77598f7b-32e7-4e3b-a6e5-06ba0d98fe8a  e777faab-98ae-45af-9a86-7ce5b33b1011   \n",
       "4  d4062e70-befa-4995-8643-a0de73938182  81536ad9-5ccf-4eb8-befb-47a4d608658e   \n",
       "\n",
       "  Loan Status  Current Loan Amount        Term  Credit Score  Annual Income  \\\n",
       "0  Fully Paid             445412.0  Short Term         709.0      1167493.0   \n",
       "1  Fully Paid             262328.0  Short Term           NaN            NaN   \n",
       "2  Fully Paid           99999999.0  Short Term         741.0      2231892.0   \n",
       "3  Fully Paid             347666.0   Long Term         721.0       806949.0   \n",
       "4  Fully Paid             176220.0  Short Term           NaN            NaN   \n",
       "\n",
       "  Years in current job Home Ownership             Purpose  Monthly Debt  \\\n",
       "0              8 years  Home Mortgage   Home Improvements       5214.74   \n",
       "1            10+ years  Home Mortgage  Debt Consolidation      33295.98   \n",
       "2              8 years       Own Home  Debt Consolidation      29200.53   \n",
       "3              3 years       Own Home  Debt Consolidation       8741.90   \n",
       "4              5 years           Rent  Debt Consolidation      20639.70   \n",
       "\n",
       "   Years of Credit History  Months since last delinquent  \\\n",
       "0                     17.2                           NaN   \n",
       "1                     21.1                           8.0   \n",
       "2                     14.9                          29.0   \n",
       "3                     12.0                           NaN   \n",
       "4                      6.1                           NaN   \n",
       "\n",
       "   Number of Open Accounts  Number of Credit Problems  Current Credit Balance  \\\n",
       "0                      6.0                        1.0                228190.0   \n",
       "1                     35.0                        0.0                229976.0   \n",
       "2                     18.0                        1.0                297996.0   \n",
       "3                      9.0                        0.0                256329.0   \n",
       "4                     15.0                        0.0                253460.0   \n",
       "\n",
       "   Maximum Open Credit  Bankruptcies  Tax Liens  \n",
       "0             416746.0           1.0        0.0  \n",
       "1             850784.0           0.0        0.0  \n",
       "2             750090.0           0.0        0.0  \n",
       "3             386958.0           0.0        0.0  \n",
       "4             427174.0           0.0        0.0  "
      ]
     },
     "execution_count": 3,
     "metadata": {},
     "output_type": "execute_result"
    }
   ],
   "source": [
    "df.head()"
   ]
  },
  {
   "cell_type": "markdown",
   "metadata": {},
   "source": [
    "# The Dataset size "
   ]
  },
  {
   "cell_type": "code",
   "execution_count": 4,
   "metadata": {},
   "outputs": [
    {
     "data": {
      "text/plain": [
       "(100514, 19)"
      ]
     },
     "execution_count": 4,
     "metadata": {},
     "output_type": "execute_result"
    }
   ],
   "source": [
    "df.shape"
   ]
  },
  {
   "cell_type": "markdown",
   "metadata": {},
   "source": [
    "The dataset has 1,00,514 rows and 19 features"
   ]
  },
  {
   "cell_type": "markdown",
   "metadata": {},
   "source": [
    "# Number of missing values"
   ]
  },
  {
   "cell_type": "code",
   "execution_count": 5,
   "metadata": {},
   "outputs": [
    {
     "data": {
      "text/plain": [
       "Loan ID                           514\n",
       "Customer ID                       514\n",
       "Loan Status                       514\n",
       "Current Loan Amount               514\n",
       "Term                              514\n",
       "Credit Score                    19668\n",
       "Annual Income                   19668\n",
       "Years in current job             4736\n",
       "Home Ownership                    514\n",
       "Purpose                           514\n",
       "Monthly Debt                      514\n",
       "Years of Credit History           514\n",
       "Months since last delinquent    53655\n",
       "Number of Open Accounts           514\n",
       "Number of Credit Problems         514\n",
       "Current Credit Balance            514\n",
       "Maximum Open Credit               516\n",
       "Bankruptcies                      718\n",
       "Tax Liens                         524\n",
       "dtype: int64"
      ]
     },
     "execution_count": 5,
     "metadata": {},
     "output_type": "execute_result"
    }
   ],
   "source": [
    "df.isnull().sum()"
   ]
  },
  {
   "cell_type": "markdown",
   "metadata": {},
   "source": [
    "We have significant number of rows have missing values in Months since last delinquent, Credit Score,Years in current job and Annual Income Features"
   ]
  },
  {
   "cell_type": "markdown",
   "metadata": {},
   "source": [
    "# Dropping the missing values"
   ]
  },
  {
   "cell_type": "code",
   "execution_count": 5,
   "metadata": {},
   "outputs": [],
   "source": [
    "df.dropna(inplace=True)"
   ]
  },
  {
   "cell_type": "code",
   "execution_count": 7,
   "metadata": {},
   "outputs": [
    {
     "data": {
      "text/plain": [
       "(36423, 19)"
      ]
     },
     "execution_count": 7,
     "metadata": {},
     "output_type": "execute_result"
    }
   ],
   "source": [
    "df.shape"
   ]
  },
  {
   "cell_type": "code",
   "execution_count": 8,
   "metadata": {},
   "outputs": [
    {
     "data": {
      "text/plain": [
       "Loan ID                         0\n",
       "Customer ID                     0\n",
       "Loan Status                     0\n",
       "Current Loan Amount             0\n",
       "Term                            0\n",
       "Credit Score                    0\n",
       "Annual Income                   0\n",
       "Years in current job            0\n",
       "Home Ownership                  0\n",
       "Purpose                         0\n",
       "Monthly Debt                    0\n",
       "Years of Credit History         0\n",
       "Months since last delinquent    0\n",
       "Number of Open Accounts         0\n",
       "Number of Credit Problems       0\n",
       "Current Credit Balance          0\n",
       "Maximum Open Credit             0\n",
       "Bankruptcies                    0\n",
       "Tax Liens                       0\n",
       "dtype: int64"
      ]
     },
     "execution_count": 8,
     "metadata": {},
     "output_type": "execute_result"
    }
   ],
   "source": [
    "df.isnull().sum()"
   ]
  },
  {
   "cell_type": "markdown",
   "metadata": {},
   "source": [
    "As we can see there are no missing or null values in the dataset"
   ]
  },
  {
   "cell_type": "markdown",
   "metadata": {},
   "source": [
    "# Dropping the insignificant Features"
   ]
  },
  {
   "cell_type": "code",
   "execution_count": 9,
   "metadata": {},
   "outputs": [
    {
     "name": "stdout",
     "output_type": "stream",
     "text": [
      "<class 'pandas.core.frame.DataFrame'>\n",
      "Int64Index: 36423 entries, 2 to 99997\n",
      "Data columns (total 19 columns):\n",
      "Loan ID                         36423 non-null object\n",
      "Customer ID                     36423 non-null object\n",
      "Loan Status                     36423 non-null object\n",
      "Current Loan Amount             36423 non-null float64\n",
      "Term                            36423 non-null object\n",
      "Credit Score                    36423 non-null float64\n",
      "Annual Income                   36423 non-null float64\n",
      "Years in current job            36423 non-null object\n",
      "Home Ownership                  36423 non-null object\n",
      "Purpose                         36423 non-null object\n",
      "Monthly Debt                    36423 non-null float64\n",
      "Years of Credit History         36423 non-null float64\n",
      "Months since last delinquent    36423 non-null float64\n",
      "Number of Open Accounts         36423 non-null float64\n",
      "Number of Credit Problems       36423 non-null float64\n",
      "Current Credit Balance          36423 non-null float64\n",
      "Maximum Open Credit             36423 non-null float64\n",
      "Bankruptcies                    36423 non-null float64\n",
      "Tax Liens                       36423 non-null float64\n",
      "dtypes: float64(12), object(7)\n",
      "memory usage: 5.6+ MB\n"
     ]
    }
   ],
   "source": [
    "df.info()"
   ]
  },
  {
   "cell_type": "markdown",
   "metadata": {},
   "source": [
    "The important features will be selected based on the correlation between the independent variable and dependent variable.  \n",
    "note the dependent varibale is a string as of now before calculating correlation, so we will change it into numeric"
   ]
  },
  {
   "cell_type": "code",
   "execution_count": 6,
   "metadata": {},
   "outputs": [],
   "source": [
    "df['Loan Status']= df['Loan Status'].map({'Fully Paid':0,'Charged Off':1})"
   ]
  },
  {
   "cell_type": "code",
   "execution_count": 11,
   "metadata": {},
   "outputs": [
    {
     "data": {
      "text/plain": [
       "0    28972\n",
       "1     7451\n",
       "Name: Loan Status, dtype: int64"
      ]
     },
     "execution_count": 11,
     "metadata": {},
     "output_type": "execute_result"
    }
   ],
   "source": [
    "df['Loan Status'].value_counts()"
   ]
  },
  {
   "cell_type": "code",
   "execution_count": 12,
   "metadata": {},
   "outputs": [],
   "source": [
    "def coefpval(x,y):\n",
    "    x=x[x.corr().columns]\n",
    "    from scipy import stats\n",
    "    ls=[]\n",
    "    for i in range(x.shape[1]):\n",
    "        ls.append(stats.pearsonr(x.iloc[:,i], y)  )\n",
    "    copv=pd.DataFrame(ls,index=x.columns,columns= ['Pearson-Coeff','P-Value'])\n",
    "    copv['P-Ind'] = pd.cut(copv['P-Value'], bins =[0, 0.001, 0.05,0.1, 1.0], labels=['Strong','Moderate','Weak','Insignificant'], include_lowest=True )\n",
    "    copv['C-Ind'] = pd.cut(copv['Pearson-Coeff'], bins =[-1.0,0, 1.0], labels=['Negative','Positive'], include_lowest=True )\n",
    "    \n",
    "    return copv"
   ]
  },
  {
   "cell_type": "code",
   "execution_count": 330,
   "metadata": {},
   "outputs": [
    {
     "data": {
      "text/html": [
       "<div>\n",
       "<style scoped>\n",
       "    .dataframe tbody tr th:only-of-type {\n",
       "        vertical-align: middle;\n",
       "    }\n",
       "\n",
       "    .dataframe tbody tr th {\n",
       "        vertical-align: top;\n",
       "    }\n",
       "\n",
       "    .dataframe thead th {\n",
       "        text-align: right;\n",
       "    }\n",
       "</style>\n",
       "<table border=\"1\" class=\"dataframe\">\n",
       "  <thead>\n",
       "    <tr style=\"text-align: right;\">\n",
       "      <th></th>\n",
       "      <th>Pearson-Coeff</th>\n",
       "      <th>P-Value</th>\n",
       "      <th>P-Ind</th>\n",
       "      <th>C-Ind</th>\n",
       "    </tr>\n",
       "  </thead>\n",
       "  <tbody>\n",
       "    <tr>\n",
       "      <th>Loan Status</th>\n",
       "      <td>1.000000</td>\n",
       "      <td>0.000000e+00</td>\n",
       "      <td>Strong</td>\n",
       "      <td>Positive</td>\n",
       "    </tr>\n",
       "    <tr>\n",
       "      <th>Current Loan Amount</th>\n",
       "      <td>-0.200122</td>\n",
       "      <td>0.000000e+00</td>\n",
       "      <td>Strong</td>\n",
       "      <td>Negative</td>\n",
       "    </tr>\n",
       "    <tr>\n",
       "      <th>Credit Score</th>\n",
       "      <td>0.467169</td>\n",
       "      <td>0.000000e+00</td>\n",
       "      <td>Strong</td>\n",
       "      <td>Positive</td>\n",
       "    </tr>\n",
       "    <tr>\n",
       "      <th>Annual Income</th>\n",
       "      <td>-0.059817</td>\n",
       "      <td>3.107983e-30</td>\n",
       "      <td>Strong</td>\n",
       "      <td>Negative</td>\n",
       "    </tr>\n",
       "    <tr>\n",
       "      <th>Monthly Debt</th>\n",
       "      <td>0.016347</td>\n",
       "      <td>1.809501e-03</td>\n",
       "      <td>Moderate</td>\n",
       "      <td>Positive</td>\n",
       "    </tr>\n",
       "    <tr>\n",
       "      <th>Years of Credit History</th>\n",
       "      <td>-0.030938</td>\n",
       "      <td>3.511403e-09</td>\n",
       "      <td>Strong</td>\n",
       "      <td>Negative</td>\n",
       "    </tr>\n",
       "    <tr>\n",
       "      <th>Months since last delinquent</th>\n",
       "      <td>-0.016191</td>\n",
       "      <td>2.001290e-03</td>\n",
       "      <td>Moderate</td>\n",
       "      <td>Negative</td>\n",
       "    </tr>\n",
       "    <tr>\n",
       "      <th>Number of Open Accounts</th>\n",
       "      <td>0.025361</td>\n",
       "      <td>1.293957e-06</td>\n",
       "      <td>Strong</td>\n",
       "      <td>Positive</td>\n",
       "    </tr>\n",
       "    <tr>\n",
       "      <th>Number of Credit Problems</th>\n",
       "      <td>0.005907</td>\n",
       "      <td>2.596299e-01</td>\n",
       "      <td>Insignificant</td>\n",
       "      <td>Positive</td>\n",
       "    </tr>\n",
       "    <tr>\n",
       "      <th>Current Credit Balance</th>\n",
       "      <td>-0.008538</td>\n",
       "      <td>1.032113e-01</td>\n",
       "      <td>Insignificant</td>\n",
       "      <td>Negative</td>\n",
       "    </tr>\n",
       "    <tr>\n",
       "      <th>Maximum Open Credit</th>\n",
       "      <td>-0.006955</td>\n",
       "      <td>1.843951e-01</td>\n",
       "      <td>Insignificant</td>\n",
       "      <td>Negative</td>\n",
       "    </tr>\n",
       "    <tr>\n",
       "      <th>Bankruptcies</th>\n",
       "      <td>-0.003085</td>\n",
       "      <td>5.560370e-01</td>\n",
       "      <td>Insignificant</td>\n",
       "      <td>Negative</td>\n",
       "    </tr>\n",
       "    <tr>\n",
       "      <th>Tax Liens</th>\n",
       "      <td>0.012883</td>\n",
       "      <td>1.394706e-02</td>\n",
       "      <td>Moderate</td>\n",
       "      <td>Positive</td>\n",
       "    </tr>\n",
       "  </tbody>\n",
       "</table>\n",
       "</div>"
      ],
      "text/plain": [
       "                              Pearson-Coeff       P-Value          P-Ind  \\\n",
       "Loan Status                        1.000000  0.000000e+00         Strong   \n",
       "Current Loan Amount               -0.200122  0.000000e+00         Strong   \n",
       "Credit Score                       0.467169  0.000000e+00         Strong   \n",
       "Annual Income                     -0.059817  3.107983e-30         Strong   \n",
       "Monthly Debt                       0.016347  1.809501e-03       Moderate   \n",
       "Years of Credit History           -0.030938  3.511403e-09         Strong   \n",
       "Months since last delinquent      -0.016191  2.001290e-03       Moderate   \n",
       "Number of Open Accounts            0.025361  1.293957e-06         Strong   \n",
       "Number of Credit Problems          0.005907  2.596299e-01  Insignificant   \n",
       "Current Credit Balance            -0.008538  1.032113e-01  Insignificant   \n",
       "Maximum Open Credit               -0.006955  1.843951e-01  Insignificant   \n",
       "Bankruptcies                      -0.003085  5.560370e-01  Insignificant   \n",
       "Tax Liens                          0.012883  1.394706e-02       Moderate   \n",
       "\n",
       "                                 C-Ind  \n",
       "Loan Status                   Positive  \n",
       "Current Loan Amount           Negative  \n",
       "Credit Score                  Positive  \n",
       "Annual Income                 Negative  \n",
       "Monthly Debt                  Positive  \n",
       "Years of Credit History       Negative  \n",
       "Months since last delinquent  Negative  \n",
       "Number of Open Accounts       Positive  \n",
       "Number of Credit Problems     Positive  \n",
       "Current Credit Balance        Negative  \n",
       "Maximum Open Credit           Negative  \n",
       "Bankruptcies                  Negative  \n",
       "Tax Liens                     Positive  "
      ]
     },
     "execution_count": 330,
     "metadata": {},
     "output_type": "execute_result"
    }
   ],
   "source": [
    "coefpval(df,df['Loan Status'])"
   ]
  },
  {
   "cell_type": "markdown",
   "metadata": {},
   "source": [
    "From above we can see that we have 4 insignificant columns"
   ]
  },
  {
   "cell_type": "code",
   "execution_count": 331,
   "metadata": {},
   "outputs": [
    {
     "data": {
      "text/plain": [
       "<matplotlib.axes._subplots.AxesSubplot at 0x29ab3ec3780>"
      ]
     },
     "execution_count": 331,
     "metadata": {},
     "output_type": "execute_result"
    },
    {
     "data": {
      "image/png": "[encoded data removed]",
      "text/plain": [
       "<Figure size 1080x720 with 2 Axes>"
      ]
     },
     "metadata": {
      "needs_background": "light"
     },
     "output_type": "display_data"
    }
   ],
   "source": [
    "plt.figure(figsize=(15,10))\n",
    "sns.heatmap(df.corr(),annot=True)"
   ]
  },
  {
   "cell_type": "markdown",
   "metadata": {},
   "source": [
    "as the Loan ID and Customer ID are not relevant to the dependent variable we can drop those first"
   ]
  },
  {
   "cell_type": "code",
   "execution_count": 132,
   "metadata": {},
   "outputs": [],
   "source": [
    "\n",
    "# Function of multi-Correlation\n",
    "def correlation(data, threshold=0.80):\n",
    "    col_corr = set()  # Set of all the names of deleted columns\n",
    "    corr_matrix = data.corr()\n",
    "    print('  \\n    Correlation with more than :',threshold)\n",
    "    print('\\n\\nCorr Value',\"\\t\"\"\\t\", 'Fearture1', \"\\t\", 'Feature 2')\n",
    "    for i in range(len(corr_matrix.columns)):\n",
    "        for j in range(i):\n",
    "            if (corr_matrix.iloc[i, j] >= threshold) and (corr_matrix.columns[j] not in col_corr):\n",
    "                print(corr_matrix.iloc[i, j], \"\\t\", corr_matrix.columns[i], \"\\t\" \"\\t\", corr_matrix.columns[j])\n",
    "                \n",
    "    print('\\n\\n The above mentioned correlations only are present in the given Dataset')"
   ]
  },
  {
   "cell_type": "code",
   "execution_count": 332,
   "metadata": {},
   "outputs": [
    {
     "name": "stdout",
     "output_type": "stream",
     "text": [
      "  \n",
      "    Correlation with more than : 0.8\n",
      "\n",
      "\n",
      "Corr Value \t\t Fearture1 \t Feature 2\n",
      "\n",
      "\n",
      " The above mentioned correlations only are present in the given Dataset\n"
     ]
    }
   ],
   "source": [
    "correlation(df,0.80)"
   ]
  },
  {
   "cell_type": "code",
   "execution_count": 7,
   "metadata": {},
   "outputs": [],
   "source": [
    "df.drop(columns=['Loan ID','Customer ID'],inplace=True)"
   ]
  },
  {
   "cell_type": "code",
   "execution_count": 15,
   "metadata": {},
   "outputs": [
    {
     "name": "stdout",
     "output_type": "stream",
     "text": [
      "<class 'pandas.core.frame.DataFrame'>\n",
      "Int64Index: 36423 entries, 2 to 99997\n",
      "Data columns (total 17 columns):\n",
      "Loan Status                     36423 non-null int64\n",
      "Current Loan Amount             36423 non-null float64\n",
      "Term                            36423 non-null object\n",
      "Credit Score                    36423 non-null float64\n",
      "Annual Income                   36423 non-null float64\n",
      "Years in current job            36423 non-null object\n",
      "Home Ownership                  36423 non-null object\n",
      "Purpose                         36423 non-null object\n",
      "Monthly Debt                    36423 non-null float64\n",
      "Years of Credit History         36423 non-null float64\n",
      "Months since last delinquent    36423 non-null float64\n",
      "Number of Open Accounts         36423 non-null float64\n",
      "Number of Credit Problems       36423 non-null float64\n",
      "Current Credit Balance          36423 non-null float64\n",
      "Maximum Open Credit             36423 non-null float64\n",
      "Bankruptcies                    36423 non-null float64\n",
      "Tax Liens                       36423 non-null float64\n",
      "dtypes: float64(12), int64(1), object(4)\n",
      "memory usage: 6.3+ MB\n"
     ]
    }
   ],
   "source": [
    "df.info()"
   ]
  },
  {
   "cell_type": "markdown",
   "metadata": {},
   "source": [
    "from the above results after dropping 2 columns, we have 4 columns of data type object so no we need to convert it into categorical variable"
   ]
  },
  {
   "cell_type": "markdown",
   "metadata": {},
   "source": [
    "# One-Hot Encoding (Conversion of categorical to Numerical)"
   ]
  },
  {
   "cell_type": "code",
   "execution_count": null,
   "metadata": {},
   "outputs": [],
   "source": []
  },
  {
   "cell_type": "code",
   "execution_count": 16,
   "metadata": {},
   "outputs": [
    {
     "data": {
      "text/plain": [
       "10+ years    13149\n",
       "2 years       3225\n",
       "3 years       2997\n",
       "< 1 year      2699\n",
       "5 years       2487\n",
       "4 years       2286\n",
       "1 year        2247\n",
       "6 years       2109\n",
       "7 years       2082\n",
       "8 years       1675\n",
       "9 years       1467\n",
       "Name: Years in current job, dtype: int64"
      ]
     },
     "execution_count": 16,
     "metadata": {},
     "output_type": "execute_result"
    }
   ],
   "source": [
    "df['Years in current job'].value_counts()"
   ]
  },
  {
   "cell_type": "code",
   "execution_count": 8,
   "metadata": {},
   "outputs": [],
   "source": [
    "df['Years in current job']=df['Years in current job'].map({'10+ years':10,'2 years':2,'3 years':3,'< 1 year':0,'5 years':5\n",
    "                                                            ,'1 year':1,'4 years':4,'7 years':7,'6 years':6,'8 years':8\n",
    "                                                            ,'9 years':9})"
   ]
  },
  {
   "cell_type": "code",
   "execution_count": 18,
   "metadata": {},
   "outputs": [
    {
     "data": {
      "text/plain": [
       "10    13149\n",
       "2      3225\n",
       "3      2997\n",
       "0      2699\n",
       "5      2487\n",
       "4      2286\n",
       "1      2247\n",
       "6      2109\n",
       "7      2082\n",
       "8      1675\n",
       "9      1467\n",
       "Name: Years in current job, dtype: int64"
      ]
     },
     "execution_count": 18,
     "metadata": {},
     "output_type": "execute_result"
    }
   ],
   "source": [
    "df['Years in current job'].value_counts()"
   ]
  },
  {
   "cell_type": "code",
   "execution_count": 19,
   "metadata": {},
   "outputs": [
    {
     "name": "stdout",
     "output_type": "stream",
     "text": [
      "<class 'pandas.core.frame.DataFrame'>\n",
      "Int64Index: 36423 entries, 2 to 99997\n",
      "Data columns (total 17 columns):\n",
      "Loan Status                     36423 non-null int64\n",
      "Current Loan Amount             36423 non-null float64\n",
      "Term                            36423 non-null object\n",
      "Credit Score                    36423 non-null float64\n",
      "Annual Income                   36423 non-null float64\n",
      "Years in current job            36423 non-null int64\n",
      "Home Ownership                  36423 non-null object\n",
      "Purpose                         36423 non-null object\n",
      "Monthly Debt                    36423 non-null float64\n",
      "Years of Credit History         36423 non-null float64\n",
      "Months since last delinquent    36423 non-null float64\n",
      "Number of Open Accounts         36423 non-null float64\n",
      "Number of Credit Problems       36423 non-null float64\n",
      "Current Credit Balance          36423 non-null float64\n",
      "Maximum Open Credit             36423 non-null float64\n",
      "Bankruptcies                    36423 non-null float64\n",
      "Tax Liens                       36423 non-null float64\n",
      "dtypes: float64(12), int64(2), object(3)\n",
      "memory usage: 6.3+ MB\n"
     ]
    }
   ],
   "source": [
    "df.info()"
   ]
  },
  {
   "cell_type": "code",
   "execution_count": 20,
   "metadata": {},
   "outputs": [
    {
     "data": {
      "text/plain": [
       "Short Term    25855\n",
       "Long Term     10568\n",
       "Name: Term, dtype: int64"
      ]
     },
     "execution_count": 20,
     "metadata": {},
     "output_type": "execute_result"
    }
   ],
   "source": [
    "df['Term'].value_counts()"
   ]
  },
  {
   "cell_type": "code",
   "execution_count": 21,
   "metadata": {},
   "outputs": [
    {
     "data": {
      "text/plain": [
       "Home Mortgage    18831\n",
       "Rent             14300\n",
       "Own Home          3205\n",
       "HaveMortgage        87\n",
       "Name: Home Ownership, dtype: int64"
      ]
     },
     "execution_count": 21,
     "metadata": {},
     "output_type": "execute_result"
    }
   ],
   "source": [
    "df['Home Ownership'].value_counts()"
   ]
  },
  {
   "cell_type": "code",
   "execution_count": 22,
   "metadata": {},
   "outputs": [
    {
     "data": {
      "text/plain": [
       "Debt Consolidation      28202\n",
       "Home Improvements        2409\n",
       "other                    2313\n",
       "Other                    1150\n",
       "Business Loan             596\n",
       "Medical Bills             444\n",
       "Buy a Car                 428\n",
       "Buy House                 263\n",
       "Take a Trip               219\n",
       "major_purchase            116\n",
       "small_business            111\n",
       "moving                     55\n",
       "vacation                   41\n",
       "wedding                    39\n",
       "Educational Expenses       33\n",
       "renewable_energy            4\n",
       "Name: Purpose, dtype: int64"
      ]
     },
     "execution_count": 22,
     "metadata": {},
     "output_type": "execute_result"
    }
   ],
   "source": [
    "df['Purpose'].value_counts()"
   ]
  },
  {
   "cell_type": "markdown",
   "metadata": {},
   "source": [
    "From above we can see that there are 2 other category one with small 'o' and another with capital 'O', so we need to convert it.   \n",
    "and we can group the moving,vacation,wedding,Educational Expenses and renewable_energy values into one category"
   ]
  },
  {
   "cell_type": "code",
   "execution_count": 9,
   "metadata": {},
   "outputs": [],
   "source": [
    "df['Purpose'].replace('other','Other',inplace=True)"
   ]
  },
  {
   "cell_type": "code",
   "execution_count": 24,
   "metadata": {},
   "outputs": [
    {
     "data": {
      "text/plain": [
       "Debt Consolidation      28202\n",
       "Other                    3463\n",
       "Home Improvements        2409\n",
       "Business Loan             596\n",
       "Medical Bills             444\n",
       "Buy a Car                 428\n",
       "Buy House                 263\n",
       "Take a Trip               219\n",
       "major_purchase            116\n",
       "small_business            111\n",
       "moving                     55\n",
       "vacation                   41\n",
       "wedding                    39\n",
       "Educational Expenses       33\n",
       "renewable_energy            4\n",
       "Name: Purpose, dtype: int64"
      ]
     },
     "execution_count": 24,
     "metadata": {},
     "output_type": "execute_result"
    }
   ],
   "source": [
    "df['Purpose'].value_counts()"
   ]
  },
  {
   "cell_type": "code",
   "execution_count": 10,
   "metadata": {},
   "outputs": [],
   "source": [
    "df=pd.get_dummies(df)"
   ]
  },
  {
   "cell_type": "code",
   "execution_count": 26,
   "metadata": {},
   "outputs": [
    {
     "data": {
      "text/html": [
       "<div>\n",
       "<style scoped>\n",
       "    .dataframe tbody tr th:only-of-type {\n",
       "        vertical-align: middle;\n",
       "    }\n",
       "\n",
       "    .dataframe tbody tr th {\n",
       "        vertical-align: top;\n",
       "    }\n",
       "\n",
       "    .dataframe thead th {\n",
       "        text-align: right;\n",
       "    }\n",
       "</style>\n",
       "<table border=\"1\" class=\"dataframe\">\n",
       "  <thead>\n",
       "    <tr style=\"text-align: right;\">\n",
       "      <th></th>\n",
       "      <th>Loan Status</th>\n",
       "      <th>Current Loan Amount</th>\n",
       "      <th>Credit Score</th>\n",
       "      <th>Annual Income</th>\n",
       "      <th>Years in current job</th>\n",
       "      <th>Monthly Debt</th>\n",
       "      <th>Years of Credit History</th>\n",
       "      <th>Months since last delinquent</th>\n",
       "      <th>Number of Open Accounts</th>\n",
       "      <th>Number of Credit Problems</th>\n",
       "      <th>...</th>\n",
       "      <th>Purpose_Home Improvements</th>\n",
       "      <th>Purpose_Medical Bills</th>\n",
       "      <th>Purpose_Other</th>\n",
       "      <th>Purpose_Take a Trip</th>\n",
       "      <th>Purpose_major_purchase</th>\n",
       "      <th>Purpose_moving</th>\n",
       "      <th>Purpose_renewable_energy</th>\n",
       "      <th>Purpose_small_business</th>\n",
       "      <th>Purpose_vacation</th>\n",
       "      <th>Purpose_wedding</th>\n",
       "    </tr>\n",
       "  </thead>\n",
       "  <tbody>\n",
       "    <tr>\n",
       "      <th>2</th>\n",
       "      <td>0</td>\n",
       "      <td>99999999.0</td>\n",
       "      <td>741.0</td>\n",
       "      <td>2231892.0</td>\n",
       "      <td>8</td>\n",
       "      <td>29200.53</td>\n",
       "      <td>14.9</td>\n",
       "      <td>29.0</td>\n",
       "      <td>18.0</td>\n",
       "      <td>1.0</td>\n",
       "      <td>...</td>\n",
       "      <td>0</td>\n",
       "      <td>0</td>\n",
       "      <td>0</td>\n",
       "      <td>0</td>\n",
       "      <td>0</td>\n",
       "      <td>0</td>\n",
       "      <td>0</td>\n",
       "      <td>0</td>\n",
       "      <td>0</td>\n",
       "      <td>0</td>\n",
       "    </tr>\n",
       "    <tr>\n",
       "      <th>6</th>\n",
       "      <td>0</td>\n",
       "      <td>217646.0</td>\n",
       "      <td>730.0</td>\n",
       "      <td>1184194.0</td>\n",
       "      <td>0</td>\n",
       "      <td>10855.08</td>\n",
       "      <td>19.6</td>\n",
       "      <td>10.0</td>\n",
       "      <td>13.0</td>\n",
       "      <td>1.0</td>\n",
       "      <td>...</td>\n",
       "      <td>0</td>\n",
       "      <td>0</td>\n",
       "      <td>0</td>\n",
       "      <td>0</td>\n",
       "      <td>0</td>\n",
       "      <td>0</td>\n",
       "      <td>0</td>\n",
       "      <td>0</td>\n",
       "      <td>0</td>\n",
       "      <td>0</td>\n",
       "    </tr>\n",
       "    <tr>\n",
       "      <th>8</th>\n",
       "      <td>0</td>\n",
       "      <td>548746.0</td>\n",
       "      <td>678.0</td>\n",
       "      <td>2559110.0</td>\n",
       "      <td>2</td>\n",
       "      <td>18660.28</td>\n",
       "      <td>22.6</td>\n",
       "      <td>33.0</td>\n",
       "      <td>4.0</td>\n",
       "      <td>0.0</td>\n",
       "      <td>...</td>\n",
       "      <td>0</td>\n",
       "      <td>0</td>\n",
       "      <td>0</td>\n",
       "      <td>0</td>\n",
       "      <td>0</td>\n",
       "      <td>0</td>\n",
       "      <td>0</td>\n",
       "      <td>0</td>\n",
       "      <td>0</td>\n",
       "      <td>0</td>\n",
       "    </tr>\n",
       "    <tr>\n",
       "      <th>10</th>\n",
       "      <td>0</td>\n",
       "      <td>99999999.0</td>\n",
       "      <td>728.0</td>\n",
       "      <td>714628.0</td>\n",
       "      <td>3</td>\n",
       "      <td>11851.06</td>\n",
       "      <td>16.0</td>\n",
       "      <td>76.0</td>\n",
       "      <td>16.0</td>\n",
       "      <td>0.0</td>\n",
       "      <td>...</td>\n",
       "      <td>0</td>\n",
       "      <td>0</td>\n",
       "      <td>0</td>\n",
       "      <td>0</td>\n",
       "      <td>0</td>\n",
       "      <td>0</td>\n",
       "      <td>0</td>\n",
       "      <td>0</td>\n",
       "      <td>0</td>\n",
       "      <td>0</td>\n",
       "    </tr>\n",
       "    <tr>\n",
       "      <th>12</th>\n",
       "      <td>0</td>\n",
       "      <td>99999999.0</td>\n",
       "      <td>740.0</td>\n",
       "      <td>776188.0</td>\n",
       "      <td>0</td>\n",
       "      <td>11578.22</td>\n",
       "      <td>8.5</td>\n",
       "      <td>25.0</td>\n",
       "      <td>6.0</td>\n",
       "      <td>0.0</td>\n",
       "      <td>...</td>\n",
       "      <td>0</td>\n",
       "      <td>0</td>\n",
       "      <td>0</td>\n",
       "      <td>0</td>\n",
       "      <td>0</td>\n",
       "      <td>0</td>\n",
       "      <td>0</td>\n",
       "      <td>0</td>\n",
       "      <td>0</td>\n",
       "      <td>0</td>\n",
       "    </tr>\n",
       "  </tbody>\n",
       "</table>\n",
       "<p>5 rows × 35 columns</p>\n",
       "</div>"
      ],
      "text/plain": [
       "    Loan Status  Current Loan Amount  Credit Score  Annual Income  \\\n",
       "2             0           99999999.0         741.0      2231892.0   \n",
       "6             0             217646.0         730.0      1184194.0   \n",
       "8             0             548746.0         678.0      2559110.0   \n",
       "10            0           99999999.0         728.0       714628.0   \n",
       "12            0           99999999.0         740.0       776188.0   \n",
       "\n",
       "    Years in current job  Monthly Debt  Years of Credit History  \\\n",
       "2                      8      29200.53                     14.9   \n",
       "6                      0      10855.08                     19.6   \n",
       "8                      2      18660.28                     22.6   \n",
       "10                     3      11851.06                     16.0   \n",
       "12                     0      11578.22                      8.5   \n",
       "\n",
       "    Months since last delinquent  Number of Open Accounts  \\\n",
       "2                           29.0                     18.0   \n",
       "6                           10.0                     13.0   \n",
       "8                           33.0                      4.0   \n",
       "10                          76.0                     16.0   \n",
       "12                          25.0                      6.0   \n",
       "\n",
       "    Number of Credit Problems  ...  Purpose_Home Improvements  \\\n",
       "2                         1.0  ...                          0   \n",
       "6                         1.0  ...                          0   \n",
       "8                         0.0  ...                          0   \n",
       "10                        0.0  ...                          0   \n",
       "12                        0.0  ...                          0   \n",
       "\n",
       "    Purpose_Medical Bills  Purpose_Other  Purpose_Take a Trip  \\\n",
       "2                       0              0                    0   \n",
       "6                       0              0                    0   \n",
       "8                       0              0                    0   \n",
       "10                      0              0                    0   \n",
       "12                      0              0                    0   \n",
       "\n",
       "    Purpose_major_purchase  Purpose_moving  Purpose_renewable_energy  \\\n",
       "2                        0               0                         0   \n",
       "6                        0               0                         0   \n",
       "8                        0               0                         0   \n",
       "10                       0               0                         0   \n",
       "12                       0               0                         0   \n",
       "\n",
       "    Purpose_small_business  Purpose_vacation  Purpose_wedding  \n",
       "2                        0                 0                0  \n",
       "6                        0                 0                0  \n",
       "8                        0                 0                0  \n",
       "10                       0                 0                0  \n",
       "12                       0                 0                0  \n",
       "\n",
       "[5 rows x 35 columns]"
      ]
     },
     "execution_count": 26,
     "metadata": {},
     "output_type": "execute_result"
    }
   ],
   "source": [
    "df.head()"
   ]
  },
  {
   "cell_type": "markdown",
   "metadata": {},
   "source": [
    "# Checking the balance of Data"
   ]
  },
  {
   "cell_type": "code",
   "execution_count": 346,
   "metadata": {},
   "outputs": [
    {
     "data": {
      "text/plain": [
       "0    28972\n",
       "1     7451\n",
       "Name: Loan Status, dtype: int64"
      ]
     },
     "execution_count": 346,
     "metadata": {},
     "output_type": "execute_result"
    }
   ],
   "source": [
    "df['Loan Status'].value_counts()"
   ]
  },
  {
   "cell_type": "code",
   "execution_count": 347,
   "metadata": {},
   "outputs": [
    {
     "data": {
      "text/plain": [
       "<matplotlib.axes._subplots.AxesSubplot at 0x29ab04bd1d0>"
      ]
     },
     "execution_count": 347,
     "metadata": {},
     "output_type": "execute_result"
    },
    {
     "data": {
      "image/png": "[encoded data removed]",
      "text/plain": [
       "<Figure size 432x288 with 1 Axes>"
      ]
     },
     "metadata": {
      "needs_background": "light"
     },
     "output_type": "display_data"
    }
   ],
   "source": [
    "sns.countplot(x='Loan Status',data=df)"
   ]
  },
  {
   "cell_type": "markdown",
   "metadata": {},
   "source": [
    "As we can see above the data is imbalanced becasue we have 20.45% of data is for Charged off and remaining is for the Fully paid.     \n",
    "so we will do sampling for the Fully paid to get the same amount of rows as of Charged off (only for modelling purpose but for testing we will use the entire dataset)"
   ]
  },
  {
   "cell_type": "code",
   "execution_count": 62,
   "metadata": {},
   "outputs": [],
   "source": [
    "a=df[df['Loan Status']==0].sample(10000,axis=0,random_state=999)"
   ]
  },
  {
   "cell_type": "code",
   "execution_count": 28,
   "metadata": {
    "scrolled": true
   },
   "outputs": [
    {
     "data": {
      "text/html": [
       "<div>\n",
       "<style scoped>\n",
       "    .dataframe tbody tr th:only-of-type {\n",
       "        vertical-align: middle;\n",
       "    }\n",
       "\n",
       "    .dataframe tbody tr th {\n",
       "        vertical-align: top;\n",
       "    }\n",
       "\n",
       "    .dataframe thead th {\n",
       "        text-align: right;\n",
       "    }\n",
       "</style>\n",
       "<table border=\"1\" class=\"dataframe\">\n",
       "  <thead>\n",
       "    <tr style=\"text-align: right;\">\n",
       "      <th></th>\n",
       "      <th>Loan Status</th>\n",
       "      <th>Current Loan Amount</th>\n",
       "      <th>Credit Score</th>\n",
       "      <th>Annual Income</th>\n",
       "      <th>Years in current job</th>\n",
       "      <th>Monthly Debt</th>\n",
       "      <th>Years of Credit History</th>\n",
       "      <th>Months since last delinquent</th>\n",
       "      <th>Number of Open Accounts</th>\n",
       "      <th>Number of Credit Problems</th>\n",
       "      <th>...</th>\n",
       "      <th>Purpose_Home Improvements</th>\n",
       "      <th>Purpose_Medical Bills</th>\n",
       "      <th>Purpose_Other</th>\n",
       "      <th>Purpose_Take a Trip</th>\n",
       "      <th>Purpose_major_purchase</th>\n",
       "      <th>Purpose_moving</th>\n",
       "      <th>Purpose_renewable_energy</th>\n",
       "      <th>Purpose_small_business</th>\n",
       "      <th>Purpose_vacation</th>\n",
       "      <th>Purpose_wedding</th>\n",
       "    </tr>\n",
       "  </thead>\n",
       "  <tbody>\n",
       "    <tr>\n",
       "      <th>64125</th>\n",
       "      <td>0</td>\n",
       "      <td>390060.0</td>\n",
       "      <td>721.0</td>\n",
       "      <td>1684350.0</td>\n",
       "      <td>10</td>\n",
       "      <td>24703.80</td>\n",
       "      <td>18.4</td>\n",
       "      <td>15.0</td>\n",
       "      <td>14.0</td>\n",
       "      <td>0.0</td>\n",
       "      <td>...</td>\n",
       "      <td>0</td>\n",
       "      <td>0</td>\n",
       "      <td>0</td>\n",
       "      <td>0</td>\n",
       "      <td>0</td>\n",
       "      <td>0</td>\n",
       "      <td>0</td>\n",
       "      <td>0</td>\n",
       "      <td>0</td>\n",
       "      <td>0</td>\n",
       "    </tr>\n",
       "    <tr>\n",
       "      <th>46509</th>\n",
       "      <td>0</td>\n",
       "      <td>206052.0</td>\n",
       "      <td>712.0</td>\n",
       "      <td>1154250.0</td>\n",
       "      <td>10</td>\n",
       "      <td>16448.11</td>\n",
       "      <td>17.6</td>\n",
       "      <td>13.0</td>\n",
       "      <td>8.0</td>\n",
       "      <td>0.0</td>\n",
       "      <td>...</td>\n",
       "      <td>0</td>\n",
       "      <td>0</td>\n",
       "      <td>0</td>\n",
       "      <td>0</td>\n",
       "      <td>0</td>\n",
       "      <td>0</td>\n",
       "      <td>0</td>\n",
       "      <td>0</td>\n",
       "      <td>0</td>\n",
       "      <td>0</td>\n",
       "    </tr>\n",
       "    <tr>\n",
       "      <th>95364</th>\n",
       "      <td>0</td>\n",
       "      <td>138666.0</td>\n",
       "      <td>705.0</td>\n",
       "      <td>478990.0</td>\n",
       "      <td>5</td>\n",
       "      <td>8581.92</td>\n",
       "      <td>12.6</td>\n",
       "      <td>10.0</td>\n",
       "      <td>17.0</td>\n",
       "      <td>0.0</td>\n",
       "      <td>...</td>\n",
       "      <td>0</td>\n",
       "      <td>0</td>\n",
       "      <td>0</td>\n",
       "      <td>0</td>\n",
       "      <td>0</td>\n",
       "      <td>0</td>\n",
       "      <td>0</td>\n",
       "      <td>0</td>\n",
       "      <td>0</td>\n",
       "      <td>0</td>\n",
       "    </tr>\n",
       "    <tr>\n",
       "      <th>45939</th>\n",
       "      <td>0</td>\n",
       "      <td>296340.0</td>\n",
       "      <td>711.0</td>\n",
       "      <td>1687428.0</td>\n",
       "      <td>1</td>\n",
       "      <td>47107.46</td>\n",
       "      <td>11.4</td>\n",
       "      <td>71.0</td>\n",
       "      <td>9.0</td>\n",
       "      <td>0.0</td>\n",
       "      <td>...</td>\n",
       "      <td>0</td>\n",
       "      <td>0</td>\n",
       "      <td>0</td>\n",
       "      <td>0</td>\n",
       "      <td>0</td>\n",
       "      <td>0</td>\n",
       "      <td>0</td>\n",
       "      <td>0</td>\n",
       "      <td>0</td>\n",
       "      <td>0</td>\n",
       "    </tr>\n",
       "    <tr>\n",
       "      <th>7465</th>\n",
       "      <td>0</td>\n",
       "      <td>180180.0</td>\n",
       "      <td>740.0</td>\n",
       "      <td>622478.0</td>\n",
       "      <td>0</td>\n",
       "      <td>9591.39</td>\n",
       "      <td>15.7</td>\n",
       "      <td>65.0</td>\n",
       "      <td>9.0</td>\n",
       "      <td>0.0</td>\n",
       "      <td>...</td>\n",
       "      <td>0</td>\n",
       "      <td>0</td>\n",
       "      <td>0</td>\n",
       "      <td>0</td>\n",
       "      <td>0</td>\n",
       "      <td>0</td>\n",
       "      <td>0</td>\n",
       "      <td>0</td>\n",
       "      <td>0</td>\n",
       "      <td>0</td>\n",
       "    </tr>\n",
       "  </tbody>\n",
       "</table>\n",
       "<p>5 rows × 35 columns</p>\n",
       "</div>"
      ],
      "text/plain": [
       "       Loan Status  Current Loan Amount  Credit Score  Annual Income  \\\n",
       "64125            0             390060.0         721.0      1684350.0   \n",
       "46509            0             206052.0         712.0      1154250.0   \n",
       "95364            0             138666.0         705.0       478990.0   \n",
       "45939            0             296340.0         711.0      1687428.0   \n",
       "7465             0             180180.0         740.0       622478.0   \n",
       "\n",
       "       Years in current job  Monthly Debt  Years of Credit History  \\\n",
       "64125                    10      24703.80                     18.4   \n",
       "46509                    10      16448.11                     17.6   \n",
       "95364                     5       8581.92                     12.6   \n",
       "45939                     1      47107.46                     11.4   \n",
       "7465                      0       9591.39                     15.7   \n",
       "\n",
       "       Months since last delinquent  Number of Open Accounts  \\\n",
       "64125                          15.0                     14.0   \n",
       "46509                          13.0                      8.0   \n",
       "95364                          10.0                     17.0   \n",
       "45939                          71.0                      9.0   \n",
       "7465                           65.0                      9.0   \n",
       "\n",
       "       Number of Credit Problems  ...  Purpose_Home Improvements  \\\n",
       "64125                        0.0  ...                          0   \n",
       "46509                        0.0  ...                          0   \n",
       "95364                        0.0  ...                          0   \n",
       "45939                        0.0  ...                          0   \n",
       "7465                         0.0  ...                          0   \n",
       "\n",
       "       Purpose_Medical Bills  Purpose_Other  Purpose_Take a Trip  \\\n",
       "64125                      0              0                    0   \n",
       "46509                      0              0                    0   \n",
       "95364                      0              0                    0   \n",
       "45939                      0              0                    0   \n",
       "7465                       0              0                    0   \n",
       "\n",
       "       Purpose_major_purchase  Purpose_moving  Purpose_renewable_energy  \\\n",
       "64125                       0               0                         0   \n",
       "46509                       0               0                         0   \n",
       "95364                       0               0                         0   \n",
       "45939                       0               0                         0   \n",
       "7465                        0               0                         0   \n",
       "\n",
       "       Purpose_small_business  Purpose_vacation  Purpose_wedding  \n",
       "64125                       0                 0                0  \n",
       "46509                       0                 0                0  \n",
       "95364                       0                 0                0  \n",
       "45939                       0                 0                0  \n",
       "7465                        0                 0                0  \n",
       "\n",
       "[5 rows x 35 columns]"
      ]
     },
     "execution_count": 28,
     "metadata": {},
     "output_type": "execute_result"
    }
   ],
   "source": [
    "a.head()"
   ]
  },
  {
   "cell_type": "code",
   "execution_count": 12,
   "metadata": {},
   "outputs": [
    {
     "data": {
      "text/plain": [
       "(10000, 35)"
      ]
     },
     "execution_count": 12,
     "metadata": {},
     "output_type": "execute_result"
    }
   ],
   "source": [
    "a.shape"
   ]
  },
  {
   "cell_type": "code",
   "execution_count": 63,
   "metadata": {},
   "outputs": [],
   "source": [
    "b=df[df['Loan Status']==1].sample(4000,axis=0,random_state=999)"
   ]
  },
  {
   "cell_type": "code",
   "execution_count": 30,
   "metadata": {},
   "outputs": [
    {
     "data": {
      "text/html": [
       "<div>\n",
       "<style scoped>\n",
       "    .dataframe tbody tr th:only-of-type {\n",
       "        vertical-align: middle;\n",
       "    }\n",
       "\n",
       "    .dataframe tbody tr th {\n",
       "        vertical-align: top;\n",
       "    }\n",
       "\n",
       "    .dataframe thead th {\n",
       "        text-align: right;\n",
       "    }\n",
       "</style>\n",
       "<table border=\"1\" class=\"dataframe\">\n",
       "  <thead>\n",
       "    <tr style=\"text-align: right;\">\n",
       "      <th></th>\n",
       "      <th>Loan Status</th>\n",
       "      <th>Current Loan Amount</th>\n",
       "      <th>Credit Score</th>\n",
       "      <th>Annual Income</th>\n",
       "      <th>Years in current job</th>\n",
       "      <th>Monthly Debt</th>\n",
       "      <th>Years of Credit History</th>\n",
       "      <th>Months since last delinquent</th>\n",
       "      <th>Number of Open Accounts</th>\n",
       "      <th>Number of Credit Problems</th>\n",
       "      <th>...</th>\n",
       "      <th>Purpose_Home Improvements</th>\n",
       "      <th>Purpose_Medical Bills</th>\n",
       "      <th>Purpose_Other</th>\n",
       "      <th>Purpose_Take a Trip</th>\n",
       "      <th>Purpose_major_purchase</th>\n",
       "      <th>Purpose_moving</th>\n",
       "      <th>Purpose_renewable_energy</th>\n",
       "      <th>Purpose_small_business</th>\n",
       "      <th>Purpose_vacation</th>\n",
       "      <th>Purpose_wedding</th>\n",
       "    </tr>\n",
       "  </thead>\n",
       "  <tbody>\n",
       "    <tr>\n",
       "      <th>12961</th>\n",
       "      <td>1</td>\n",
       "      <td>349052.0</td>\n",
       "      <td>696.0</td>\n",
       "      <td>2260848.0</td>\n",
       "      <td>10</td>\n",
       "      <td>27488.06</td>\n",
       "      <td>29.3</td>\n",
       "      <td>65.0</td>\n",
       "      <td>18.0</td>\n",
       "      <td>1.0</td>\n",
       "      <td>...</td>\n",
       "      <td>0</td>\n",
       "      <td>0</td>\n",
       "      <td>0</td>\n",
       "      <td>0</td>\n",
       "      <td>0</td>\n",
       "      <td>0</td>\n",
       "      <td>0</td>\n",
       "      <td>0</td>\n",
       "      <td>0</td>\n",
       "      <td>0</td>\n",
       "    </tr>\n",
       "    <tr>\n",
       "      <th>33539</th>\n",
       "      <td>1</td>\n",
       "      <td>194546.0</td>\n",
       "      <td>725.0</td>\n",
       "      <td>1157499.0</td>\n",
       "      <td>10</td>\n",
       "      <td>19291.65</td>\n",
       "      <td>21.7</td>\n",
       "      <td>71.0</td>\n",
       "      <td>6.0</td>\n",
       "      <td>0.0</td>\n",
       "      <td>...</td>\n",
       "      <td>0</td>\n",
       "      <td>0</td>\n",
       "      <td>0</td>\n",
       "      <td>0</td>\n",
       "      <td>0</td>\n",
       "      <td>0</td>\n",
       "      <td>0</td>\n",
       "      <td>0</td>\n",
       "      <td>0</td>\n",
       "      <td>0</td>\n",
       "    </tr>\n",
       "    <tr>\n",
       "      <th>18377</th>\n",
       "      <td>1</td>\n",
       "      <td>578226.0</td>\n",
       "      <td>6740.0</td>\n",
       "      <td>2082685.0</td>\n",
       "      <td>2</td>\n",
       "      <td>27127.06</td>\n",
       "      <td>17.0</td>\n",
       "      <td>13.0</td>\n",
       "      <td>11.0</td>\n",
       "      <td>0.0</td>\n",
       "      <td>...</td>\n",
       "      <td>0</td>\n",
       "      <td>0</td>\n",
       "      <td>0</td>\n",
       "      <td>0</td>\n",
       "      <td>0</td>\n",
       "      <td>0</td>\n",
       "      <td>0</td>\n",
       "      <td>0</td>\n",
       "      <td>0</td>\n",
       "      <td>0</td>\n",
       "    </tr>\n",
       "    <tr>\n",
       "      <th>70062</th>\n",
       "      <td>1</td>\n",
       "      <td>108834.0</td>\n",
       "      <td>728.0</td>\n",
       "      <td>5432252.0</td>\n",
       "      <td>3</td>\n",
       "      <td>86463.30</td>\n",
       "      <td>16.3</td>\n",
       "      <td>2.0</td>\n",
       "      <td>10.0</td>\n",
       "      <td>0.0</td>\n",
       "      <td>...</td>\n",
       "      <td>0</td>\n",
       "      <td>1</td>\n",
       "      <td>0</td>\n",
       "      <td>0</td>\n",
       "      <td>0</td>\n",
       "      <td>0</td>\n",
       "      <td>0</td>\n",
       "      <td>0</td>\n",
       "      <td>0</td>\n",
       "      <td>0</td>\n",
       "    </tr>\n",
       "    <tr>\n",
       "      <th>39458</th>\n",
       "      <td>1</td>\n",
       "      <td>261316.0</td>\n",
       "      <td>729.0</td>\n",
       "      <td>652479.0</td>\n",
       "      <td>7</td>\n",
       "      <td>17834.35</td>\n",
       "      <td>15.4</td>\n",
       "      <td>51.0</td>\n",
       "      <td>10.0</td>\n",
       "      <td>0.0</td>\n",
       "      <td>...</td>\n",
       "      <td>0</td>\n",
       "      <td>0</td>\n",
       "      <td>0</td>\n",
       "      <td>0</td>\n",
       "      <td>0</td>\n",
       "      <td>0</td>\n",
       "      <td>0</td>\n",
       "      <td>0</td>\n",
       "      <td>0</td>\n",
       "      <td>0</td>\n",
       "    </tr>\n",
       "  </tbody>\n",
       "</table>\n",
       "<p>5 rows × 35 columns</p>\n",
       "</div>"
      ],
      "text/plain": [
       "       Loan Status  Current Loan Amount  Credit Score  Annual Income  \\\n",
       "12961            1             349052.0         696.0      2260848.0   \n",
       "33539            1             194546.0         725.0      1157499.0   \n",
       "18377            1             578226.0        6740.0      2082685.0   \n",
       "70062            1             108834.0         728.0      5432252.0   \n",
       "39458            1             261316.0         729.0       652479.0   \n",
       "\n",
       "       Years in current job  Monthly Debt  Years of Credit History  \\\n",
       "12961                    10      27488.06                     29.3   \n",
       "33539                    10      19291.65                     21.7   \n",
       "18377                     2      27127.06                     17.0   \n",
       "70062                     3      86463.30                     16.3   \n",
       "39458                     7      17834.35                     15.4   \n",
       "\n",
       "       Months since last delinquent  Number of Open Accounts  \\\n",
       "12961                          65.0                     18.0   \n",
       "33539                          71.0                      6.0   \n",
       "18377                          13.0                     11.0   \n",
       "70062                           2.0                     10.0   \n",
       "39458                          51.0                     10.0   \n",
       "\n",
       "       Number of Credit Problems  ...  Purpose_Home Improvements  \\\n",
       "12961                        1.0  ...                          0   \n",
       "33539                        0.0  ...                          0   \n",
       "18377                        0.0  ...                          0   \n",
       "70062                        0.0  ...                          0   \n",
       "39458                        0.0  ...                          0   \n",
       "\n",
       "       Purpose_Medical Bills  Purpose_Other  Purpose_Take a Trip  \\\n",
       "12961                      0              0                    0   \n",
       "33539                      0              0                    0   \n",
       "18377                      0              0                    0   \n",
       "70062                      1              0                    0   \n",
       "39458                      0              0                    0   \n",
       "\n",
       "       Purpose_major_purchase  Purpose_moving  Purpose_renewable_energy  \\\n",
       "12961                       0               0                         0   \n",
       "33539                       0               0                         0   \n",
       "18377                       0               0                         0   \n",
       "70062                       0               0                         0   \n",
       "39458                       0               0                         0   \n",
       "\n",
       "       Purpose_small_business  Purpose_vacation  Purpose_wedding  \n",
       "12961                       0                 0                0  \n",
       "33539                       0                 0                0  \n",
       "18377                       0                 0                0  \n",
       "70062                       0                 0                0  \n",
       "39458                       0                 0                0  \n",
       "\n",
       "[5 rows x 35 columns]"
      ]
     },
     "execution_count": 30,
     "metadata": {},
     "output_type": "execute_result"
    }
   ],
   "source": [
    "b.head()"
   ]
  },
  {
   "cell_type": "code",
   "execution_count": 31,
   "metadata": {},
   "outputs": [
    {
     "data": {
      "text/plain": [
       "(4000, 35)"
      ]
     },
     "execution_count": 31,
     "metadata": {},
     "output_type": "execute_result"
    }
   ],
   "source": [
    "b.shape"
   ]
  },
  {
   "cell_type": "code",
   "execution_count": 64,
   "metadata": {},
   "outputs": [],
   "source": [
    "df1= pd.concat([a,b],axis=0)"
   ]
  },
  {
   "cell_type": "code",
   "execution_count": 35,
   "metadata": {},
   "outputs": [
    {
     "data": {
      "text/html": [
       "<div>\n",
       "<style scoped>\n",
       "    .dataframe tbody tr th:only-of-type {\n",
       "        vertical-align: middle;\n",
       "    }\n",
       "\n",
       "    .dataframe tbody tr th {\n",
       "        vertical-align: top;\n",
       "    }\n",
       "\n",
       "    .dataframe thead th {\n",
       "        text-align: right;\n",
       "    }\n",
       "</style>\n",
       "<table border=\"1\" class=\"dataframe\">\n",
       "  <thead>\n",
       "    <tr style=\"text-align: right;\">\n",
       "      <th></th>\n",
       "      <th>Loan Status</th>\n",
       "      <th>Current Loan Amount</th>\n",
       "      <th>Credit Score</th>\n",
       "      <th>Annual Income</th>\n",
       "      <th>Years in current job</th>\n",
       "      <th>Monthly Debt</th>\n",
       "      <th>Years of Credit History</th>\n",
       "      <th>Months since last delinquent</th>\n",
       "      <th>Number of Open Accounts</th>\n",
       "      <th>Number of Credit Problems</th>\n",
       "      <th>...</th>\n",
       "      <th>Purpose_Home Improvements</th>\n",
       "      <th>Purpose_Medical Bills</th>\n",
       "      <th>Purpose_Other</th>\n",
       "      <th>Purpose_Take a Trip</th>\n",
       "      <th>Purpose_major_purchase</th>\n",
       "      <th>Purpose_moving</th>\n",
       "      <th>Purpose_renewable_energy</th>\n",
       "      <th>Purpose_small_business</th>\n",
       "      <th>Purpose_vacation</th>\n",
       "      <th>Purpose_wedding</th>\n",
       "    </tr>\n",
       "  </thead>\n",
       "  <tbody>\n",
       "    <tr>\n",
       "      <th>32354</th>\n",
       "      <td>0</td>\n",
       "      <td>133474.0</td>\n",
       "      <td>741.0</td>\n",
       "      <td>537909.0</td>\n",
       "      <td>1</td>\n",
       "      <td>3998.36</td>\n",
       "      <td>23.4</td>\n",
       "      <td>35.0</td>\n",
       "      <td>9.0</td>\n",
       "      <td>0.0</td>\n",
       "      <td>...</td>\n",
       "      <td>0</td>\n",
       "      <td>0</td>\n",
       "      <td>0</td>\n",
       "      <td>0</td>\n",
       "      <td>0</td>\n",
       "      <td>0</td>\n",
       "      <td>0</td>\n",
       "      <td>0</td>\n",
       "      <td>0</td>\n",
       "      <td>0</td>\n",
       "    </tr>\n",
       "    <tr>\n",
       "      <th>3042</th>\n",
       "      <td>0</td>\n",
       "      <td>279972.0</td>\n",
       "      <td>723.0</td>\n",
       "      <td>842688.0</td>\n",
       "      <td>10</td>\n",
       "      <td>10674.01</td>\n",
       "      <td>15.6</td>\n",
       "      <td>53.0</td>\n",
       "      <td>6.0</td>\n",
       "      <td>2.0</td>\n",
       "      <td>...</td>\n",
       "      <td>0</td>\n",
       "      <td>0</td>\n",
       "      <td>0</td>\n",
       "      <td>0</td>\n",
       "      <td>0</td>\n",
       "      <td>0</td>\n",
       "      <td>0</td>\n",
       "      <td>0</td>\n",
       "      <td>0</td>\n",
       "      <td>0</td>\n",
       "    </tr>\n",
       "    <tr>\n",
       "      <th>43804</th>\n",
       "      <td>0</td>\n",
       "      <td>392348.0</td>\n",
       "      <td>649.0</td>\n",
       "      <td>987506.0</td>\n",
       "      <td>0</td>\n",
       "      <td>16713.73</td>\n",
       "      <td>16.5</td>\n",
       "      <td>58.0</td>\n",
       "      <td>17.0</td>\n",
       "      <td>0.0</td>\n",
       "      <td>...</td>\n",
       "      <td>0</td>\n",
       "      <td>0</td>\n",
       "      <td>0</td>\n",
       "      <td>0</td>\n",
       "      <td>0</td>\n",
       "      <td>0</td>\n",
       "      <td>0</td>\n",
       "      <td>0</td>\n",
       "      <td>0</td>\n",
       "      <td>0</td>\n",
       "    </tr>\n",
       "    <tr>\n",
       "      <th>38052</th>\n",
       "      <td>0</td>\n",
       "      <td>99999999.0</td>\n",
       "      <td>721.0</td>\n",
       "      <td>1050624.0</td>\n",
       "      <td>5</td>\n",
       "      <td>21012.67</td>\n",
       "      <td>17.0</td>\n",
       "      <td>21.0</td>\n",
       "      <td>8.0</td>\n",
       "      <td>0.0</td>\n",
       "      <td>...</td>\n",
       "      <td>0</td>\n",
       "      <td>0</td>\n",
       "      <td>0</td>\n",
       "      <td>0</td>\n",
       "      <td>0</td>\n",
       "      <td>0</td>\n",
       "      <td>0</td>\n",
       "      <td>0</td>\n",
       "      <td>0</td>\n",
       "      <td>0</td>\n",
       "    </tr>\n",
       "    <tr>\n",
       "      <th>54800</th>\n",
       "      <td>0</td>\n",
       "      <td>405218.0</td>\n",
       "      <td>724.0</td>\n",
       "      <td>1458212.0</td>\n",
       "      <td>7</td>\n",
       "      <td>37791.76</td>\n",
       "      <td>13.7</td>\n",
       "      <td>35.0</td>\n",
       "      <td>12.0</td>\n",
       "      <td>1.0</td>\n",
       "      <td>...</td>\n",
       "      <td>0</td>\n",
       "      <td>0</td>\n",
       "      <td>0</td>\n",
       "      <td>0</td>\n",
       "      <td>0</td>\n",
       "      <td>0</td>\n",
       "      <td>0</td>\n",
       "      <td>0</td>\n",
       "      <td>0</td>\n",
       "      <td>0</td>\n",
       "    </tr>\n",
       "  </tbody>\n",
       "</table>\n",
       "<p>5 rows × 35 columns</p>\n",
       "</div>"
      ],
      "text/plain": [
       "       Loan Status  Current Loan Amount  Credit Score  Annual Income  \\\n",
       "32354            0             133474.0         741.0       537909.0   \n",
       "3042             0             279972.0         723.0       842688.0   \n",
       "43804            0             392348.0         649.0       987506.0   \n",
       "38052            0           99999999.0         721.0      1050624.0   \n",
       "54800            0             405218.0         724.0      1458212.0   \n",
       "\n",
       "       Years in current job  Monthly Debt  Years of Credit History  \\\n",
       "32354                     1       3998.36                     23.4   \n",
       "3042                     10      10674.01                     15.6   \n",
       "43804                     0      16713.73                     16.5   \n",
       "38052                     5      21012.67                     17.0   \n",
       "54800                     7      37791.76                     13.7   \n",
       "\n",
       "       Months since last delinquent  Number of Open Accounts  \\\n",
       "32354                          35.0                      9.0   \n",
       "3042                           53.0                      6.0   \n",
       "43804                          58.0                     17.0   \n",
       "38052                          21.0                      8.0   \n",
       "54800                          35.0                     12.0   \n",
       "\n",
       "       Number of Credit Problems  ...  Purpose_Home Improvements  \\\n",
       "32354                        0.0  ...                          0   \n",
       "3042                         2.0  ...                          0   \n",
       "43804                        0.0  ...                          0   \n",
       "38052                        0.0  ...                          0   \n",
       "54800                        1.0  ...                          0   \n",
       "\n",
       "       Purpose_Medical Bills  Purpose_Other  Purpose_Take a Trip  \\\n",
       "32354                      0              0                    0   \n",
       "3042                       0              0                    0   \n",
       "43804                      0              0                    0   \n",
       "38052                      0              0                    0   \n",
       "54800                      0              0                    0   \n",
       "\n",
       "       Purpose_major_purchase  Purpose_moving  Purpose_renewable_energy  \\\n",
       "32354                       0               0                         0   \n",
       "3042                        0               0                         0   \n",
       "43804                       0               0                         0   \n",
       "38052                       0               0                         0   \n",
       "54800                       0               0                         0   \n",
       "\n",
       "       Purpose_small_business  Purpose_vacation  Purpose_wedding  \n",
       "32354                       0                 0                0  \n",
       "3042                        0                 0                0  \n",
       "43804                       0                 0                0  \n",
       "38052                       0                 0                0  \n",
       "54800                       0                 0                0  \n",
       "\n",
       "[5 rows x 35 columns]"
      ]
     },
     "execution_count": 35,
     "metadata": {},
     "output_type": "execute_result"
    }
   ],
   "source": [
    "df1.head()"
   ]
  },
  {
   "cell_type": "code",
   "execution_count": 52,
   "metadata": {},
   "outputs": [
    {
     "data": {
      "text/plain": [
       "(14000, 35)"
      ]
     },
     "execution_count": 52,
     "metadata": {},
     "output_type": "execute_result"
    }
   ],
   "source": [
    "df1.shape"
   ]
  },
  {
   "cell_type": "code",
   "execution_count": 35,
   "metadata": {},
   "outputs": [
    {
     "data": {
      "text/plain": [
       "<matplotlib.axes._subplots.AxesSubplot at 0x2a3607d57f0>"
      ]
     },
     "execution_count": 35,
     "metadata": {},
     "output_type": "execute_result"
    },
    {
     "data": {
      "image/png": "[encoded data removed]",
      "text/plain": [
       "<Figure size 432x288 with 1 Axes>"
      ]
     },
     "metadata": {
      "needs_background": "light"
     },
     "output_type": "display_data"
    }
   ],
   "source": [
    "sns.countplot(x='Loan Status',data=df1)"
   ]
  },
  {
   "cell_type": "markdown",
   "metadata": {},
   "source": [
    "Now we have a balanced data set for Data Modelling"
   ]
  },
  {
   "cell_type": "code",
   "execution_count": 36,
   "metadata": {},
   "outputs": [
    {
     "name": "stdout",
     "output_type": "stream",
     "text": [
      "<class 'pandas.core.frame.DataFrame'>\n",
      "Int64Index: 14000 entries, 64125 to 72825\n",
      "Data columns (total 35 columns):\n",
      "Loan Status                     14000 non-null int64\n",
      "Current Loan Amount             14000 non-null float64\n",
      "Credit Score                    14000 non-null float64\n",
      "Annual Income                   14000 non-null float64\n",
      "Years in current job            14000 non-null int64\n",
      "Monthly Debt                    14000 non-null float64\n",
      "Years of Credit History         14000 non-null float64\n",
      "Months since last delinquent    14000 non-null float64\n",
      "Number of Open Accounts         14000 non-null float64\n",
      "Number of Credit Problems       14000 non-null float64\n",
      "Current Credit Balance          14000 non-null float64\n",
      "Maximum Open Credit             14000 non-null float64\n",
      "Bankruptcies                    14000 non-null float64\n",
      "Tax Liens                       14000 non-null float64\n",
      "Term_Long Term                  14000 non-null uint8\n",
      "Term_Short Term                 14000 non-null uint8\n",
      "Home Ownership_HaveMortgage     14000 non-null uint8\n",
      "Home Ownership_Home Mortgage    14000 non-null uint8\n",
      "Home Ownership_Own Home         14000 non-null uint8\n",
      "Home Ownership_Rent             14000 non-null uint8\n",
      "Purpose_Business Loan           14000 non-null uint8\n",
      "Purpose_Buy House               14000 non-null uint8\n",
      "Purpose_Buy a Car               14000 non-null uint8\n",
      "Purpose_Debt Consolidation      14000 non-null uint8\n",
      "Purpose_Educational Expenses    14000 non-null uint8\n",
      "Purpose_Home Improvements       14000 non-null uint8\n",
      "Purpose_Medical Bills           14000 non-null uint8\n",
      "Purpose_Other                   14000 non-null uint8\n",
      "Purpose_Take a Trip             14000 non-null uint8\n",
      "Purpose_major_purchase          14000 non-null uint8\n",
      "Purpose_moving                  14000 non-null uint8\n",
      "Purpose_renewable_energy        14000 non-null uint8\n",
      "Purpose_small_business          14000 non-null uint8\n",
      "Purpose_vacation                14000 non-null uint8\n",
      "Purpose_wedding                 14000 non-null uint8\n",
      "dtypes: float64(12), int64(2), uint8(21)\n",
      "memory usage: 2.5 MB\n"
     ]
    }
   ],
   "source": [
    "df1.info()"
   ]
  },
  {
   "cell_type": "markdown",
   "metadata": {},
   "source": [
    "As we can see above all the features are now in numerical values"
   ]
  },
  {
   "cell_type": "markdown",
   "metadata": {},
   "source": [
    "# Data Partitioning"
   ]
  },
  {
   "cell_type": "code",
   "execution_count": 16,
   "metadata": {},
   "outputs": [],
   "source": [
    "from sklearn.model_selection import train_test_split"
   ]
  },
  {
   "cell_type": "code",
   "execution_count": 65,
   "metadata": {},
   "outputs": [],
   "source": [
    "x=df1.drop('Loan Status',axis=1)"
   ]
  },
  {
   "cell_type": "code",
   "execution_count": 38,
   "metadata": {},
   "outputs": [
    {
     "data": {
      "text/html": [
       "<div>\n",
       "<style scoped>\n",
       "    .dataframe tbody tr th:only-of-type {\n",
       "        vertical-align: middle;\n",
       "    }\n",
       "\n",
       "    .dataframe tbody tr th {\n",
       "        vertical-align: top;\n",
       "    }\n",
       "\n",
       "    .dataframe thead th {\n",
       "        text-align: right;\n",
       "    }\n",
       "</style>\n",
       "<table border=\"1\" class=\"dataframe\">\n",
       "  <thead>\n",
       "    <tr style=\"text-align: right;\">\n",
       "      <th></th>\n",
       "      <th>Current Loan Amount</th>\n",
       "      <th>Credit Score</th>\n",
       "      <th>Annual Income</th>\n",
       "      <th>Years in current job</th>\n",
       "      <th>Monthly Debt</th>\n",
       "      <th>Years of Credit History</th>\n",
       "      <th>Months since last delinquent</th>\n",
       "      <th>Number of Open Accounts</th>\n",
       "      <th>Number of Credit Problems</th>\n",
       "      <th>Current Credit Balance</th>\n",
       "      <th>...</th>\n",
       "      <th>Purpose_Home Improvements</th>\n",
       "      <th>Purpose_Medical Bills</th>\n",
       "      <th>Purpose_Other</th>\n",
       "      <th>Purpose_Take a Trip</th>\n",
       "      <th>Purpose_major_purchase</th>\n",
       "      <th>Purpose_moving</th>\n",
       "      <th>Purpose_renewable_energy</th>\n",
       "      <th>Purpose_small_business</th>\n",
       "      <th>Purpose_vacation</th>\n",
       "      <th>Purpose_wedding</th>\n",
       "    </tr>\n",
       "  </thead>\n",
       "  <tbody>\n",
       "    <tr>\n",
       "      <th>32354</th>\n",
       "      <td>133474.0</td>\n",
       "      <td>741.0</td>\n",
       "      <td>537909.0</td>\n",
       "      <td>1</td>\n",
       "      <td>3998.36</td>\n",
       "      <td>23.4</td>\n",
       "      <td>35.0</td>\n",
       "      <td>9.0</td>\n",
       "      <td>0.0</td>\n",
       "      <td>70585.0</td>\n",
       "      <td>...</td>\n",
       "      <td>0</td>\n",
       "      <td>0</td>\n",
       "      <td>0</td>\n",
       "      <td>0</td>\n",
       "      <td>0</td>\n",
       "      <td>0</td>\n",
       "      <td>0</td>\n",
       "      <td>0</td>\n",
       "      <td>0</td>\n",
       "      <td>0</td>\n",
       "    </tr>\n",
       "    <tr>\n",
       "      <th>3042</th>\n",
       "      <td>279972.0</td>\n",
       "      <td>723.0</td>\n",
       "      <td>842688.0</td>\n",
       "      <td>10</td>\n",
       "      <td>10674.01</td>\n",
       "      <td>15.6</td>\n",
       "      <td>53.0</td>\n",
       "      <td>6.0</td>\n",
       "      <td>2.0</td>\n",
       "      <td>113658.0</td>\n",
       "      <td>...</td>\n",
       "      <td>0</td>\n",
       "      <td>0</td>\n",
       "      <td>0</td>\n",
       "      <td>0</td>\n",
       "      <td>0</td>\n",
       "      <td>0</td>\n",
       "      <td>0</td>\n",
       "      <td>0</td>\n",
       "      <td>0</td>\n",
       "      <td>0</td>\n",
       "    </tr>\n",
       "    <tr>\n",
       "      <th>43804</th>\n",
       "      <td>392348.0</td>\n",
       "      <td>649.0</td>\n",
       "      <td>987506.0</td>\n",
       "      <td>0</td>\n",
       "      <td>16713.73</td>\n",
       "      <td>16.5</td>\n",
       "      <td>58.0</td>\n",
       "      <td>17.0</td>\n",
       "      <td>0.0</td>\n",
       "      <td>169765.0</td>\n",
       "      <td>...</td>\n",
       "      <td>0</td>\n",
       "      <td>0</td>\n",
       "      <td>0</td>\n",
       "      <td>0</td>\n",
       "      <td>0</td>\n",
       "      <td>0</td>\n",
       "      <td>0</td>\n",
       "      <td>0</td>\n",
       "      <td>0</td>\n",
       "      <td>0</td>\n",
       "    </tr>\n",
       "    <tr>\n",
       "      <th>38052</th>\n",
       "      <td>99999999.0</td>\n",
       "      <td>721.0</td>\n",
       "      <td>1050624.0</td>\n",
       "      <td>5</td>\n",
       "      <td>21012.67</td>\n",
       "      <td>17.0</td>\n",
       "      <td>21.0</td>\n",
       "      <td>8.0</td>\n",
       "      <td>0.0</td>\n",
       "      <td>111283.0</td>\n",
       "      <td>...</td>\n",
       "      <td>0</td>\n",
       "      <td>0</td>\n",
       "      <td>0</td>\n",
       "      <td>0</td>\n",
       "      <td>0</td>\n",
       "      <td>0</td>\n",
       "      <td>0</td>\n",
       "      <td>0</td>\n",
       "      <td>0</td>\n",
       "      <td>0</td>\n",
       "    </tr>\n",
       "    <tr>\n",
       "      <th>54800</th>\n",
       "      <td>405218.0</td>\n",
       "      <td>724.0</td>\n",
       "      <td>1458212.0</td>\n",
       "      <td>7</td>\n",
       "      <td>37791.76</td>\n",
       "      <td>13.7</td>\n",
       "      <td>35.0</td>\n",
       "      <td>12.0</td>\n",
       "      <td>1.0</td>\n",
       "      <td>179379.0</td>\n",
       "      <td>...</td>\n",
       "      <td>0</td>\n",
       "      <td>0</td>\n",
       "      <td>0</td>\n",
       "      <td>0</td>\n",
       "      <td>0</td>\n",
       "      <td>0</td>\n",
       "      <td>0</td>\n",
       "      <td>0</td>\n",
       "      <td>0</td>\n",
       "      <td>0</td>\n",
       "    </tr>\n",
       "  </tbody>\n",
       "</table>\n",
       "<p>5 rows × 34 columns</p>\n",
       "</div>"
      ],
      "text/plain": [
       "       Current Loan Amount  Credit Score  Annual Income  Years in current job  \\\n",
       "32354             133474.0         741.0       537909.0                     1   \n",
       "3042              279972.0         723.0       842688.0                    10   \n",
       "43804             392348.0         649.0       987506.0                     0   \n",
       "38052           99999999.0         721.0      1050624.0                     5   \n",
       "54800             405218.0         724.0      1458212.0                     7   \n",
       "\n",
       "       Monthly Debt  Years of Credit History  Months since last delinquent  \\\n",
       "32354       3998.36                     23.4                          35.0   \n",
       "3042       10674.01                     15.6                          53.0   \n",
       "43804      16713.73                     16.5                          58.0   \n",
       "38052      21012.67                     17.0                          21.0   \n",
       "54800      37791.76                     13.7                          35.0   \n",
       "\n",
       "       Number of Open Accounts  Number of Credit Problems  \\\n",
       "32354                      9.0                        0.0   \n",
       "3042                       6.0                        2.0   \n",
       "43804                     17.0                        0.0   \n",
       "38052                      8.0                        0.0   \n",
       "54800                     12.0                        1.0   \n",
       "\n",
       "       Current Credit Balance  ...  Purpose_Home Improvements  \\\n",
       "32354                 70585.0  ...                          0   \n",
       "3042                 113658.0  ...                          0   \n",
       "43804                169765.0  ...                          0   \n",
       "38052                111283.0  ...                          0   \n",
       "54800                179379.0  ...                          0   \n",
       "\n",
       "       Purpose_Medical Bills  Purpose_Other  Purpose_Take a Trip  \\\n",
       "32354                      0              0                    0   \n",
       "3042                       0              0                    0   \n",
       "43804                      0              0                    0   \n",
       "38052                      0              0                    0   \n",
       "54800                      0              0                    0   \n",
       "\n",
       "       Purpose_major_purchase  Purpose_moving  Purpose_renewable_energy  \\\n",
       "32354                       0               0                         0   \n",
       "3042                        0               0                         0   \n",
       "43804                       0               0                         0   \n",
       "38052                       0               0                         0   \n",
       "54800                       0               0                         0   \n",
       "\n",
       "       Purpose_small_business  Purpose_vacation  Purpose_wedding  \n",
       "32354                       0                 0                0  \n",
       "3042                        0                 0                0  \n",
       "43804                       0                 0                0  \n",
       "38052                       0                 0                0  \n",
       "54800                       0                 0                0  \n",
       "\n",
       "[5 rows x 34 columns]"
      ]
     },
     "execution_count": 38,
     "metadata": {},
     "output_type": "execute_result"
    }
   ],
   "source": [
    "x.head()"
   ]
  },
  {
   "cell_type": "code",
   "execution_count": 39,
   "metadata": {},
   "outputs": [
    {
     "data": {
      "text/plain": [
       "(14000, 34)"
      ]
     },
     "execution_count": 39,
     "metadata": {},
     "output_type": "execute_result"
    }
   ],
   "source": [
    "x.shape"
   ]
  },
  {
   "cell_type": "code",
   "execution_count": 66,
   "metadata": {},
   "outputs": [],
   "source": [
    "y=df1['Loan Status']"
   ]
  },
  {
   "cell_type": "code",
   "execution_count": 67,
   "metadata": {},
   "outputs": [
    {
     "data": {
      "text/plain": [
       "42223    0\n",
       "61752    0\n",
       "28321    0\n",
       "16447    0\n",
       "65710    0\n",
       "Name: Loan Status, dtype: int64"
      ]
     },
     "execution_count": 67,
     "metadata": {},
     "output_type": "execute_result"
    }
   ],
   "source": [
    "y.head()"
   ]
  },
  {
   "cell_type": "code",
   "execution_count": 42,
   "metadata": {},
   "outputs": [
    {
     "data": {
      "text/plain": [
       "(14000,)"
      ]
     },
     "execution_count": 42,
     "metadata": {},
     "output_type": "execute_result"
    }
   ],
   "source": [
    "y.shape"
   ]
  },
  {
   "cell_type": "code",
   "execution_count": 68,
   "metadata": {},
   "outputs": [],
   "source": [
    "x_train, x_test, y_train, y_test = train_test_split(x, y, test_size=0.3, random_state=100)"
   ]
  },
  {
   "cell_type": "code",
   "execution_count": 69,
   "metadata": {},
   "outputs": [
    {
     "data": {
      "text/plain": [
       "(9800, 34)"
      ]
     },
     "execution_count": 69,
     "metadata": {},
     "output_type": "execute_result"
    }
   ],
   "source": [
    "x_train.shape"
   ]
  },
  {
   "cell_type": "code",
   "execution_count": 70,
   "metadata": {},
   "outputs": [
    {
     "data": {
      "text/plain": [
       "(9800,)"
      ]
     },
     "execution_count": 70,
     "metadata": {},
     "output_type": "execute_result"
    }
   ],
   "source": [
    "y_train.shape"
   ]
  },
  {
   "cell_type": "code",
   "execution_count": 71,
   "metadata": {},
   "outputs": [
    {
     "data": {
      "text/plain": [
       "(4200, 34)"
      ]
     },
     "execution_count": 71,
     "metadata": {},
     "output_type": "execute_result"
    }
   ],
   "source": [
    "x_test.shape"
   ]
  },
  {
   "cell_type": "code",
   "execution_count": 47,
   "metadata": {},
   "outputs": [
    {
     "data": {
      "text/plain": [
       "(4200,)"
      ]
     },
     "execution_count": 47,
     "metadata": {},
     "output_type": "execute_result"
    }
   ],
   "source": [
    "y_test.shape"
   ]
  },
  {
   "cell_type": "markdown",
   "metadata": {},
   "source": [
    "# Decision tree Modelling"
   ]
  },
  {
   "cell_type": "code",
   "execution_count": 27,
   "metadata": {},
   "outputs": [],
   "source": [
    "from sklearn.tree import DecisionTreeClassifier\n"
   ]
  },
  {
   "cell_type": "code",
   "execution_count": 28,
   "metadata": {},
   "outputs": [],
   "source": [
    "from sklearn.metrics import accuracy_score,classification_report,confusion_matrix"
   ]
  },
  {
   "cell_type": "code",
   "execution_count": 29,
   "metadata": {},
   "outputs": [],
   "source": [
    "from sklearn.model_selection import cross_val_score"
   ]
  },
  {
   "cell_type": "code",
   "execution_count": 72,
   "metadata": {},
   "outputs": [
    {
     "name": "stdout",
     "output_type": "stream",
     "text": [
      "\n",
      "For maxdepth = 3\n",
      "\n",
      "Cross validation Training mean: 0.7905109414712201\n",
      "Training score without CV: 0.7905102040816326\n",
      "Test score --> 0.7833333333333333\n",
      "\n",
      "\n",
      "Accuracy Training score without CV: 0.7905102040816326\n",
      "Accuracy Test score --> 0.7833333333333333\n",
      "\n",
      "\n",
      "Confusion Matrix:\n",
      "         Predicted 0  Predicted 1\n",
      "True 0         2993            0\n",
      "True 1          910          297\n",
      "\n",
      "Classification report:\n",
      "\n",
      "               precision    recall  f1-score   support\n",
      "\n",
      "           0       0.77      1.00      0.87      2993\n",
      "           1       1.00      0.25      0.39      1207\n",
      "\n",
      "    accuracy                           0.78      4200\n",
      "   macro avg       0.88      0.62      0.63      4200\n",
      "weighted avg       0.83      0.78      0.73      4200\n",
      "\n",
      "--------------------------------------------------------------------------\n",
      "\n",
      "For maxdepth = 5\n",
      "\n",
      "Cross validation Training mean: 0.787550976208881\n",
      "Training score without CV: 0.7918367346938775\n",
      "Test score --> 0.7766666666666666\n",
      "\n",
      "\n",
      "Accuracy Training score without CV: 0.7918367346938775\n",
      "Accuracy Test score --> 0.7766666666666666\n",
      "\n",
      "\n",
      "Confusion Matrix:\n",
      "         Predicted 0  Predicted 1\n",
      "True 0         2924           69\n",
      "True 1          869          338\n",
      "\n",
      "Classification report:\n",
      "\n",
      "               precision    recall  f1-score   support\n",
      "\n",
      "           0       0.77      0.98      0.86      2993\n",
      "           1       0.83      0.28      0.42      1207\n",
      "\n",
      "    accuracy                           0.78      4200\n",
      "   macro avg       0.80      0.63      0.64      4200\n",
      "weighted avg       0.79      0.78      0.73      4200\n",
      "\n",
      "--------------------------------------------------------------------------\n",
      "\n",
      "For maxdepth = 8\n",
      "\n",
      "Cross validation Training mean: 0.7819400319757369\n",
      "Training score without CV: 0.8009183673469388\n",
      "Test score --> 0.7740476190476191\n",
      "\n",
      "\n",
      "Accuracy Training score without CV: 0.8009183673469388\n",
      "Accuracy Test score --> 0.7740476190476191\n",
      "\n",
      "\n",
      "Confusion Matrix:\n",
      "         Predicted 0  Predicted 1\n",
      "True 0         2906           87\n",
      "True 1          862          345\n",
      "\n",
      "Classification report:\n",
      "\n",
      "               precision    recall  f1-score   support\n",
      "\n",
      "           0       0.77      0.97      0.86      2993\n",
      "           1       0.80      0.29      0.42      1207\n",
      "\n",
      "    accuracy                           0.77      4200\n",
      "   macro avg       0.78      0.63      0.64      4200\n",
      "weighted avg       0.78      0.77      0.73      4200\n",
      "\n",
      "--------------------------------------------------------------------------\n",
      "\n",
      "For maxdepth = 10\n",
      "\n",
      "Cross validation Training mean: 0.7675527421083284\n",
      "Training score without CV: 0.8216326530612245\n",
      "Test score --> 0.7635714285714286\n",
      "\n",
      "\n",
      "Accuracy Training score without CV: 0.8216326530612245\n",
      "Accuracy Test score --> 0.7635714285714286\n",
      "\n",
      "\n",
      "Confusion Matrix:\n",
      "         Predicted 0  Predicted 1\n",
      "True 0         2826          167\n",
      "True 1          826          381\n",
      "\n",
      "Classification report:\n",
      "\n",
      "               precision    recall  f1-score   support\n",
      "\n",
      "           0       0.77      0.94      0.85      2993\n",
      "           1       0.70      0.32      0.43      1207\n",
      "\n",
      "    accuracy                           0.76      4200\n",
      "   macro avg       0.73      0.63      0.64      4200\n",
      "weighted avg       0.75      0.76      0.73      4200\n",
      "\n",
      "--------------------------------------------------------------------------\n",
      "\n",
      "For maxdepth = 12\n",
      "\n",
      "Cross validation Training mean: 0.75765400011393\n",
      "Training score without CV: 0.8506122448979592\n",
      "Test score --> 0.7566666666666667\n",
      "\n",
      "\n",
      "Accuracy Training score without CV: 0.8506122448979592\n",
      "Accuracy Test score --> 0.7566666666666667\n",
      "\n",
      "\n",
      "Confusion Matrix:\n",
      "         Predicted 0  Predicted 1\n",
      "True 0         2736          257\n",
      "True 1          765          442\n",
      "\n",
      "Classification report:\n",
      "\n",
      "               precision    recall  f1-score   support\n",
      "\n",
      "           0       0.78      0.91      0.84      2993\n",
      "           1       0.63      0.37      0.46      1207\n",
      "\n",
      "    accuracy                           0.76      4200\n",
      "   macro avg       0.71      0.64      0.65      4200\n",
      "weighted avg       0.74      0.76      0.73      4200\n",
      "\n",
      "--------------------------------------------------------------------------\n",
      "\n",
      "For maxdepth = 15\n",
      "\n",
      "Cross validation Training mean: 0.7419382015570248\n",
      "Training score without CV: 0.9095918367346939\n",
      "Test score --> 0.7323809523809524\n",
      "\n",
      "\n",
      "Accuracy Training score without CV: 0.9095918367346939\n",
      "Accuracy Test score --> 0.7323809523809524\n",
      "\n",
      "\n",
      "Confusion Matrix:\n",
      "         Predicted 0  Predicted 1\n",
      "True 0         2556          437\n",
      "True 1          687          520\n",
      "\n",
      "Classification report:\n",
      "\n",
      "               precision    recall  f1-score   support\n",
      "\n",
      "           0       0.79      0.85      0.82      2993\n",
      "           1       0.54      0.43      0.48      1207\n",
      "\n",
      "    accuracy                           0.73      4200\n",
      "   macro avg       0.67      0.64      0.65      4200\n",
      "weighted avg       0.72      0.73      0.72      4200\n",
      "\n",
      "--------------------------------------------------------------------------\n",
      "\n",
      "For maxdepth = 18\n",
      "\n",
      "Cross validation Training mean: 0.7286727884956876\n",
      "Training score without CV: 0.96\n",
      "Test score --> 0.7197619047619047\n",
      "\n",
      "\n",
      "Accuracy Training score without CV: 0.96\n",
      "Accuracy Test score --> 0.7197619047619047\n",
      "\n",
      "\n",
      "Confusion Matrix:\n",
      "         Predicted 0  Predicted 1\n",
      "True 0         2445          548\n",
      "True 1          629          578\n",
      "\n",
      "Classification report:\n",
      "\n",
      "               precision    recall  f1-score   support\n",
      "\n",
      "           0       0.80      0.82      0.81      2993\n",
      "           1       0.51      0.48      0.50      1207\n",
      "\n",
      "    accuracy                           0.72      4200\n",
      "   macro avg       0.65      0.65      0.65      4200\n",
      "weighted avg       0.71      0.72      0.72      4200\n",
      "\n",
      "--------------------------------------------------------------------------\n",
      "\n",
      "For maxdepth = 20\n",
      "\n",
      "Cross validation Training mean: 0.722548515791025\n",
      "Training score without CV: 0.9770408163265306\n",
      "Test score --> 0.7119047619047619\n",
      "\n",
      "\n",
      "Accuracy Training score without CV: 0.9770408163265306\n",
      "Accuracy Test score --> 0.7119047619047619\n",
      "\n",
      "\n",
      "Confusion Matrix:\n",
      "         Predicted 0  Predicted 1\n",
      "True 0         2396          597\n",
      "True 1          613          594\n",
      "\n",
      "Classification report:\n",
      "\n",
      "               precision    recall  f1-score   support\n",
      "\n",
      "           0       0.80      0.80      0.80      2993\n",
      "           1       0.50      0.49      0.50      1207\n",
      "\n",
      "    accuracy                           0.71      4200\n",
      "   macro avg       0.65      0.65      0.65      4200\n",
      "weighted avg       0.71      0.71      0.71      4200\n",
      "\n",
      "--------------------------------------------------------------------------\n",
      "\n",
      "For maxdepth = 22\n",
      "\n",
      "Cross validation Training mean: 0.7177529087311225\n",
      "Training score without CV: 0.9872448979591837\n",
      "Test score --> 0.7116666666666667\n",
      "\n",
      "\n",
      "Accuracy Training score without CV: 0.9872448979591837\n",
      "Accuracy Test score --> 0.7116666666666667\n",
      "\n",
      "\n",
      "Confusion Matrix:\n",
      "         Predicted 0  Predicted 1\n",
      "True 0         2384          609\n",
      "True 1          602          605\n",
      "\n",
      "Classification report:\n",
      "\n",
      "               precision    recall  f1-score   support\n",
      "\n",
      "           0       0.80      0.80      0.80      2993\n",
      "           1       0.50      0.50      0.50      1207\n",
      "\n",
      "    accuracy                           0.71      4200\n",
      "   macro avg       0.65      0.65      0.65      4200\n",
      "weighted avg       0.71      0.71      0.71      4200\n",
      "\n",
      "--------------------------------------------------------------------------\n",
      "\n",
      "For maxdepth = 24\n",
      "\n",
      "Cross validation Training mean: 0.7175484108177297\n",
      "Training score without CV: 0.9929591836734694\n",
      "Test score --> 0.7078571428571429\n",
      "\n",
      "\n",
      "Accuracy Training score without CV: 0.9929591836734694\n",
      "Accuracy Test score --> 0.7078571428571429\n",
      "\n",
      "\n",
      "Confusion Matrix:\n",
      "         Predicted 0  Predicted 1\n",
      "True 0         2355          638\n",
      "True 1          589          618\n",
      "\n",
      "Classification report:\n",
      "\n",
      "               precision    recall  f1-score   support\n",
      "\n",
      "           0       0.80      0.79      0.79      2993\n",
      "           1       0.49      0.51      0.50      1207\n",
      "\n",
      "    accuracy                           0.71      4200\n",
      "   macro avg       0.65      0.65      0.65      4200\n",
      "weighted avg       0.71      0.71      0.71      4200\n",
      "\n",
      "--------------------------------------------------------------------------\n",
      "\n",
      "For maxdepth = 26\n",
      "\n",
      "Cross validation Training mean: 0.7133660901544977\n",
      "Training score without CV: 0.9963265306122449\n",
      "Test score --> 0.7133333333333334\n",
      "\n",
      "\n",
      "Accuracy Training score without CV: 0.9963265306122449\n",
      "Accuracy Test score --> 0.7133333333333334\n",
      "\n",
      "\n",
      "Confusion Matrix:\n",
      "         Predicted 0  Predicted 1\n",
      "True 0         2368          625\n",
      "True 1          579          628\n",
      "\n",
      "Classification report:\n",
      "\n",
      "               precision    recall  f1-score   support\n",
      "\n",
      "           0       0.80      0.79      0.80      2993\n",
      "           1       0.50      0.52      0.51      1207\n",
      "\n",
      "    accuracy                           0.71      4200\n",
      "   macro avg       0.65      0.66      0.65      4200\n",
      "weighted avg       0.72      0.71      0.71      4200\n",
      "\n",
      "--------------------------------------------------------------------------\n",
      "\n",
      "For maxdepth = 28\n",
      "\n",
      "Cross validation Training mean: 0.7162225044672219\n",
      "Training score without CV: 0.9989795918367347\n",
      "Test score --> 0.709047619047619\n",
      "\n",
      "\n",
      "Accuracy Training score without CV: 0.9989795918367347\n",
      "Accuracy Test score --> 0.709047619047619\n",
      "\n",
      "\n",
      "Confusion Matrix:\n",
      "         Predicted 0  Predicted 1\n",
      "True 0         2353          640\n",
      "True 1          582          625\n",
      "\n",
      "Classification report:\n",
      "\n",
      "               precision    recall  f1-score   support\n",
      "\n",
      "           0       0.80      0.79      0.79      2993\n",
      "           1       0.49      0.52      0.51      1207\n",
      "\n",
      "    accuracy                           0.71      4200\n",
      "   macro avg       0.65      0.65      0.65      4200\n",
      "weighted avg       0.71      0.71      0.71      4200\n",
      "\n",
      "--------------------------------------------------------------------------\n",
      "\n",
      "For maxdepth = 30\n",
      "\n",
      "Cross validation Training mean: 0.7148967544344883\n",
      "Training score without CV: 0.9998979591836735\n",
      "Test score --> 0.7111904761904762\n",
      "\n",
      "\n",
      "Accuracy Training score without CV: 0.9998979591836735\n",
      "Accuracy Test score --> 0.7111904761904762\n",
      "\n",
      "\n",
      "Confusion Matrix:\n",
      "         Predicted 0  Predicted 1\n",
      "True 0         2356          637\n",
      "True 1          576          631\n",
      "\n",
      "Classification report:\n",
      "\n",
      "               precision    recall  f1-score   support\n",
      "\n",
      "           0       0.80      0.79      0.80      2993\n",
      "           1       0.50      0.52      0.51      1207\n",
      "\n",
      "    accuracy                           0.71      4200\n",
      "   macro avg       0.65      0.65      0.65      4200\n",
      "weighted avg       0.72      0.71      0.71      4200\n",
      "\n",
      "--------------------------------------------------------------------------\n",
      "\n",
      "For maxdepth = 50\n",
      "\n",
      "Cross validation Training mean: 0.7129587593444228\n",
      "Training score without CV: 1.0\n",
      "Test score --> 0.7085714285714285\n",
      "\n",
      "\n",
      "Accuracy Training score without CV: 1.0\n",
      "Accuracy Test score --> 0.7085714285714285\n",
      "\n",
      "\n",
      "Confusion Matrix:\n",
      "         Predicted 0  Predicted 1\n",
      "True 0         2353          640\n",
      "True 1          584          623\n",
      "\n",
      "Classification report:\n",
      "\n",
      "               precision    recall  f1-score   support\n",
      "\n",
      "           0       0.80      0.79      0.79      2993\n",
      "           1       0.49      0.52      0.50      1207\n",
      "\n",
      "    accuracy                           0.71      4200\n",
      "   macro avg       0.65      0.65      0.65      4200\n",
      "weighted avg       0.71      0.71      0.71      4200\n",
      "\n",
      "--------------------------------------------------------------------------\n",
      "\n",
      "For maxdepth = 100\n",
      "\n",
      "Cross validation Training mean: 0.7129587593444228\n",
      "Training score without CV: 1.0\n",
      "Test score --> 0.7085714285714285\n",
      "\n",
      "\n",
      "Accuracy Training score without CV: 1.0\n",
      "Accuracy Test score --> 0.7085714285714285\n",
      "\n",
      "\n",
      "Confusion Matrix:\n",
      "         Predicted 0  Predicted 1\n",
      "True 0         2353          640\n",
      "True 1          584          623\n",
      "\n",
      "Classification report:\n",
      "\n",
      "               precision    recall  f1-score   support\n",
      "\n",
      "           0       0.80      0.79      0.79      2993\n",
      "           1       0.49      0.52      0.50      1207\n",
      "\n",
      "    accuracy                           0.71      4200\n",
      "   macro avg       0.65      0.65      0.65      4200\n",
      "weighted avg       0.71      0.71      0.71      4200\n",
      "\n",
      "--------------------------------------------------------------------------\n"
     ]
    }
   ],
   "source": [
    "train_cv_array=[]\n",
    "train_score_array = []\n",
    "test_score_array = []\n",
    "train_accscore_array = []\n",
    "test_accscore_array = []\n",
    "\n",
    "\n",
    "for d in [3,5,8,10,12,15,18,20,22,24,26,28,30,50,100]:\n",
    "    dtree = DecisionTreeClassifier(max_depth=d,random_state=999)\n",
    "    scores = cross_val_score(dtree, x_train, y_train, cv=5)\n",
    "    print('\\nFor maxdepth =',d)\n",
    "    print('\\nCross validation Training mean:',scores.mean())\n",
    "    dtree.fit(x_train,y_train)\n",
    "    y_pred=dtree.predict(x_test)\n",
    "    y_pred_train=dtree.predict(x_train)\n",
    "    train_score_array.append(dtree.score(x_train, y_train))\n",
    "    test_score_array.append(dtree.score(x_test, y_test))\n",
    "    train_accscore_array.append(accuracy_score(y_train,y_pred_train))\n",
    "    test_accscore_array.append(accuracy_score(y_test,y_pred))\n",
    "    train_cv_array.append(scores.mean())\n",
    "    print('Training score without CV:',dtree.score(x_train, y_train))\n",
    "    print('Test score -->',dtree.score(x_test, y_test))\n",
    "    print('\\n\\nAccuracy Training score without CV:',accuracy_score(y_train,y_pred_train))\n",
    "    print('Accuracy Test score -->',accuracy_score(y_test,y_pred))\n",
    "    cm=pd.DataFrame(confusion_matrix(y_test,y_pred),index=['True 0','True 1'],columns=['Predicted 0','Predicted 1'])\n",
    "    print('\\n\\nConfusion Matrix:\\n',cm)\n",
    "    print('\\nClassification report:\\n\\n',classification_report(y_test,y_pred))\n",
    "    print('--------------------------------------------------------------------------')\n",
    "    "
   ]
  },
  {
   "cell_type": "markdown",
   "metadata": {},
   "source": [
    "From the above results we can see that for classifiaction problems we should look upto the Confusion matrix \n",
    "in which for max depth 30 we get the most correctly predicted classification(among other models) for the Loan status is equal to Charged off (eventhough the train and test scores are moderate when compared with max values, this max depth =30 parameter generalizes the unseen/test data well)  \n",
    "\n",
    "The conclusion is that the Max depth  = 30 is the best parameter for the Decision tree\n",
    "\n",
    "Decision Tree : The Test score is 0.71119 for max depth =30 with f1-score for 0 as 0.80 and for 1 as 0.51\n",
    "\n",
    "\n",
    "\n",
    "\n",
    "Note: The accuracy_score and dtree.score gives exactly the same results so we can use only one metrics while moving forward"
   ]
  },
  {
   "cell_type": "code",
   "execution_count": 73,
   "metadata": {},
   "outputs": [
    {
     "data": {
      "image/png": "[encoded data removed]",
      "text/plain": [
       "<Figure size 864x576 with 1 Axes>"
      ]
     },
     "metadata": {
      "needs_background": "light"
     },
     "output_type": "display_data"
    }
   ],
   "source": [
    "plt.figure(figsize=(12,8))\n",
    "x_axis = [3,5,8,10,12,15,18,20,22,24,26,28,30,50,100]\n",
    "plt.plot(x_axis, train_score_array, c = 'g', label = 'Train Score')\n",
    "plt.plot(x_axis, test_score_array, c = 'b', label = 'Test Score')\n",
    "plt.legend()\n",
    "plt.title('Train score vs Test score without Cross validation',fontsize=20)\n",
    "plt.xlabel('Max Depth',fontsize=14)\n",
    "plt.ylabel('Accuracy score',fontsize=14)\n",
    "plt.show()"
   ]
  },
  {
   "cell_type": "code",
   "execution_count": 74,
   "metadata": {},
   "outputs": [
    {
     "data": {
      "image/png": "[encoded data removed]",
      "text/plain": [
       "<Figure size 864x576 with 1 Axes>"
      ]
     },
     "metadata": {
      "needs_background": "light"
     },
     "output_type": "display_data"
    }
   ],
   "source": [
    "plt.figure(figsize=(12,8))\n",
    "x_axis = [3,5,8,10,12,15,18,20,22,24,26,28,30,50,100]\n",
    "plt.plot(x_axis, train_cv_array, c = 'g', label = 'Train Score')\n",
    "plt.plot(x_axis, test_score_array, c = 'b', label = 'Test Score')\n",
    "plt.legend()\n",
    "plt.title('Train score vs Test score with Cross validation',fontsize=20)\n",
    "plt.xlabel('Max Depth',fontsize=14)\n",
    "plt.ylabel('Accuracy score',fontsize=14)\n",
    "plt.show()"
   ]
  },
  {
   "cell_type": "markdown",
   "metadata": {},
   "source": [
    "From above we can see the true effect of Cross validation which generalizes almost in consistent with the test score"
   ]
  },
  {
   "cell_type": "code",
   "execution_count": 75,
   "metadata": {},
   "outputs": [
    {
     "data": {
      "text/plain": [
       "DecisionTreeClassifier(class_weight=None, criterion='gini', max_depth=30,\n",
       "                       max_features=None, max_leaf_nodes=None,\n",
       "                       min_impurity_decrease=0.0, min_impurity_split=None,\n",
       "                       min_samples_leaf=1, min_samples_split=2,\n",
       "                       min_weight_fraction_leaf=0.0, presort=False,\n",
       "                       random_state=999, splitter='best')"
      ]
     },
     "execution_count": 75,
     "metadata": {},
     "output_type": "execute_result"
    }
   ],
   "source": [
    "# Train the model for the best paramenter\n",
    "dtree = DecisionTreeClassifier(max_depth=30,random_state=999)\n",
    "dtree.fit(x_train,y_train)\n"
   ]
  },
  {
   "cell_type": "code",
   "execution_count": 76,
   "metadata": {},
   "outputs": [
    {
     "data": {
      "text/plain": [
       "0.7111904761904762"
      ]
     },
     "execution_count": 76,
     "metadata": {},
     "output_type": "execute_result"
    }
   ],
   "source": [
    "dtree.score(x_test,y_test)"
   ]
  },
  {
   "cell_type": "markdown",
   "metadata": {},
   "source": [
    "Important Features in Decision Tree"
   ]
  },
  {
   "cell_type": "code",
   "execution_count": 374,
   "metadata": {
    "scrolled": true
   },
   "outputs": [
    {
     "data": {
      "text/plain": [
       "array([1.20623973e-01, 2.70164498e-01, 8.86647074e-02, 3.27505584e-02,\n",
       "       7.61540532e-02, 8.11211660e-02, 6.78344045e-02, 5.35800773e-02,\n",
       "       3.71837850e-03, 7.05337531e-02, 7.20254633e-02, 3.82018064e-03,\n",
       "       4.74966809e-03, 3.78072696e-03, 5.51002889e-03, 4.67096320e-04,\n",
       "       6.69387777e-03, 7.88819482e-03, 6.63180547e-03, 3.16191946e-03,\n",
       "       7.70621194e-04, 8.89262098e-04, 6.29757117e-03, 0.00000000e+00,\n",
       "       3.23126893e-03, 1.54888853e-04, 5.35272006e-03, 4.11522435e-04,\n",
       "       0.00000000e+00, 0.00000000e+00, 0.00000000e+00, 1.43233594e-03,\n",
       "       4.11522435e-04, 1.17375574e-03])"
      ]
     },
     "execution_count": 374,
     "metadata": {},
     "output_type": "execute_result"
    }
   ],
   "source": [
    "dtree.feature_importances_"
   ]
  },
  {
   "cell_type": "code",
   "execution_count": 375,
   "metadata": {},
   "outputs": [
    {
     "data": {
      "text/plain": [
       "Text(0.5, 1.0, 'Feature Importances')"
      ]
     },
     "execution_count": 375,
     "metadata": {},
     "output_type": "execute_result"
    },
    {
     "data": {
      "image/png": "[encoded data removed]",
      "text/plain": [
       "<Figure size 864x576 with 1 Axes>"
      ]
     },
     "metadata": {
      "needs_background": "light"
     },
     "output_type": "display_data"
    }
   ],
   "source": [
    "plt.figure(figsize=(12,8))\n",
    "plt.barh(range(len(x_train.columns)), dtree.feature_importances_, align='center')\n",
    "plt.yticks(np.arange(len(x_train.columns)), x_train.columns)\n",
    "plt.ylabel('Features')\n",
    "plt.xlabel('Importances')\n",
    "plt.title('Feature Importances',fontsize=15)\n"
   ]
  },
  {
   "cell_type": "markdown",
   "metadata": {},
   "source": [
    "From above we can see that the Features like Credit score, Current loan amount,Annual income, Current credit balanace like those\n",
    "features influences the Decision tree more.  \n",
    "\n",
    "And the columns like Tax liens, Home owner ship mortgage,Wedding purpose have very very less effect on Decision tree  "
   ]
  },
  {
   "cell_type": "code",
   "execution_count": null,
   "metadata": {},
   "outputs": [],
   "source": []
  },
  {
   "cell_type": "markdown",
   "metadata": {},
   "source": [
    "# Learning curve"
   ]
  },
  {
   "cell_type": "code",
   "execution_count": null,
   "metadata": {},
   "outputs": [],
   "source": []
  },
  {
   "cell_type": "code",
   "execution_count": 394,
   "metadata": {},
   "outputs": [],
   "source": [
    "from sklearn.model_selection import learning_curve"
   ]
  },
  {
   "cell_type": "code",
   "execution_count": 405,
   "metadata": {},
   "outputs": [
    {
     "name": "stderr",
     "output_type": "stream",
     "text": [
      "C:\\Users\\munikrishnan\\Anaconda3\\lib\\site-packages\\sklearn\\model_selection\\_split.py:1978: FutureWarning: The default value of cv will change from 3 to 5 in version 0.22. Specify it explicitly to silence this warning.\n",
      "  warnings.warn(CV_WARNING, FutureWarning)\n"
     ]
    },
    {
     "name": "stdout",
     "output_type": "stream",
     "text": [
      "Training scores:\n",
      "\n",
      " [[1.         1.         1.        ]\n",
      " [0.99145299 1.         1.        ]\n",
      " [0.97665904 0.99415205 1.        ]\n",
      " [0.99401596 0.99634673 0.99795222]\n",
      " [0.99813978 0.98421193 0.99521022]]\n",
      "\n",
      "Validation scores:\n",
      "\n",
      " [[0.4451683  0.47914439 0.50215054]\n",
      " [0.46162281 0.48900256 0.51609607]\n",
      " [0.47045952 0.48220551 0.50261233]\n",
      " [0.47513228 0.48387097 0.50821355]\n",
      " [0.4710967  0.48795812 0.52433281]]\n"
     ]
    }
   ],
   "source": [
    "train_sizes_dt_en, train_scores_dt_en, validation_scores_dt_en = learning_curve(dtree, X = x_train,y = y_train,train_sizes = [0.2,0.4,0.6,0.8,1],scoring ='f1',n_jobs=-1)\n",
    "print('Training scores:\\n\\n', train_scores_dt_en)\n",
    "print('\\nValidation scores:\\n\\n', validation_scores_dt_en)"
   ]
  },
  {
   "cell_type": "code",
   "execution_count": 406,
   "metadata": {},
   "outputs": [],
   "source": [
    "train_sizes = [0.2,0.4,0.6,0.8,1]"
   ]
  },
  {
   "cell_type": "code",
   "execution_count": 415,
   "metadata": {},
   "outputs": [
    {
     "data": {
      "text/plain": [
       "<matplotlib.legend.Legend at 0x29aa99536a0>"
      ]
     },
     "execution_count": 415,
     "metadata": {},
     "output_type": "execute_result"
    },
    {
     "data": {
      "image/png": "[encoded data removed]",
      "text/plain": [
       "<Figure size 720x576 with 1 Axes>"
      ]
     },
     "metadata": {
      "needs_background": "light"
     },
     "output_type": "display_data"
    }
   ],
   "source": [
    "plt.figure(figsize=(10,8))\n",
    "plt.plot(train_sizes, train_scores_dt_en.mean(axis=1), label = 'Training Score')\n",
    "plt.plot(train_sizes, validation_scores_dt_en.mean(axis=1), label = 'Validation Score')\n",
    "plt.ylabel('F-1 Score', fontsize = 14)\n",
    "plt.xlabel('Training set size', fontsize = 14)\n",
    "plt.title('Learning curves for a model', fontsize = 18, y = 1.03)\n",
    "plt.legend()"
   ]
  },
  {
   "cell_type": "code",
   "execution_count": null,
   "metadata": {},
   "outputs": [],
   "source": []
  },
  {
   "cell_type": "markdown",
   "metadata": {},
   "source": [
    "# Testing on whole data set ( before balancing ):"
   ]
  },
  {
   "cell_type": "code",
   "execution_count": null,
   "metadata": {},
   "outputs": [],
   "source": [
    "#now we will check how the model performs on the full data set before balancing the data\n",
    "#df is the dataset before sampling from whcih we can draw a sample of 20k rows and will test the model"
   ]
  },
  {
   "cell_type": "code",
   "execution_count": 77,
   "metadata": {},
   "outputs": [],
   "source": [
    "full_data=pd.concat([df,df1],axis=0)"
   ]
  },
  {
   "cell_type": "code",
   "execution_count": 78,
   "metadata": {},
   "outputs": [
    {
     "data": {
      "text/plain": [
       "(50423, 35)"
      ]
     },
     "execution_count": 78,
     "metadata": {},
     "output_type": "execute_result"
    }
   ],
   "source": [
    "full_data.shape"
   ]
  },
  {
   "cell_type": "code",
   "execution_count": 79,
   "metadata": {},
   "outputs": [
    {
     "data": {
      "text/plain": [
       "(36423, 35)"
      ]
     },
     "execution_count": 79,
     "metadata": {},
     "output_type": "execute_result"
    }
   ],
   "source": [
    "df.shape"
   ]
  },
  {
   "cell_type": "code",
   "execution_count": 80,
   "metadata": {},
   "outputs": [
    {
     "data": {
      "text/plain": [
       "(14000, 35)"
      ]
     },
     "execution_count": 80,
     "metadata": {},
     "output_type": "execute_result"
    }
   ],
   "source": [
    "df1.shape"
   ]
  },
  {
   "cell_type": "code",
   "execution_count": 81,
   "metadata": {},
   "outputs": [
    {
     "data": {
      "text/plain": [
       "50423"
      ]
     },
     "execution_count": 81,
     "metadata": {},
     "output_type": "execute_result"
    }
   ],
   "source": [
    "36423+14000"
   ]
  },
  {
   "cell_type": "code",
   "execution_count": 82,
   "metadata": {},
   "outputs": [],
   "source": [
    "full_data.drop_duplicates(keep=False,inplace=True)"
   ]
  },
  {
   "cell_type": "code",
   "execution_count": 83,
   "metadata": {},
   "outputs": [
    {
     "data": {
      "text/plain": [
       "(15700, 35)"
      ]
     },
     "execution_count": 83,
     "metadata": {},
     "output_type": "execute_result"
    }
   ],
   "source": [
    "full_data.shape"
   ]
  },
  {
   "cell_type": "code",
   "execution_count": 60,
   "metadata": {},
   "outputs": [
    {
     "data": {
      "text/plain": [
       "22423"
      ]
     },
     "execution_count": 60,
     "metadata": {},
     "output_type": "execute_result"
    }
   ],
   "source": [
    "36423-14000"
   ]
  },
  {
   "cell_type": "code",
   "execution_count": 61,
   "metadata": {},
   "outputs": [
    {
     "data": {
      "text/html": [
       "<div>\n",
       "<style scoped>\n",
       "    .dataframe tbody tr th:only-of-type {\n",
       "        vertical-align: middle;\n",
       "    }\n",
       "\n",
       "    .dataframe tbody tr th {\n",
       "        vertical-align: top;\n",
       "    }\n",
       "\n",
       "    .dataframe thead th {\n",
       "        text-align: right;\n",
       "    }\n",
       "</style>\n",
       "<table border=\"1\" class=\"dataframe\">\n",
       "  <thead>\n",
       "    <tr style=\"text-align: right;\">\n",
       "      <th></th>\n",
       "      <th>Loan Status</th>\n",
       "      <th>Current Loan Amount</th>\n",
       "      <th>Credit Score</th>\n",
       "      <th>Annual Income</th>\n",
       "      <th>Years in current job</th>\n",
       "      <th>Monthly Debt</th>\n",
       "      <th>Years of Credit History</th>\n",
       "      <th>Months since last delinquent</th>\n",
       "      <th>Number of Open Accounts</th>\n",
       "      <th>Number of Credit Problems</th>\n",
       "      <th>...</th>\n",
       "      <th>Purpose_Home Improvements</th>\n",
       "      <th>Purpose_Medical Bills</th>\n",
       "      <th>Purpose_Other</th>\n",
       "      <th>Purpose_Take a Trip</th>\n",
       "      <th>Purpose_major_purchase</th>\n",
       "      <th>Purpose_moving</th>\n",
       "      <th>Purpose_renewable_energy</th>\n",
       "      <th>Purpose_small_business</th>\n",
       "      <th>Purpose_vacation</th>\n",
       "      <th>Purpose_wedding</th>\n",
       "    </tr>\n",
       "  </thead>\n",
       "  <tbody>\n",
       "    <tr>\n",
       "      <th>8</th>\n",
       "      <td>0</td>\n",
       "      <td>548746.0</td>\n",
       "      <td>678.0</td>\n",
       "      <td>2559110.0</td>\n",
       "      <td>2</td>\n",
       "      <td>18660.28</td>\n",
       "      <td>22.6</td>\n",
       "      <td>33.0</td>\n",
       "      <td>4.0</td>\n",
       "      <td>0.0</td>\n",
       "      <td>...</td>\n",
       "      <td>0</td>\n",
       "      <td>0</td>\n",
       "      <td>0</td>\n",
       "      <td>0</td>\n",
       "      <td>0</td>\n",
       "      <td>0</td>\n",
       "      <td>0</td>\n",
       "      <td>0</td>\n",
       "      <td>0</td>\n",
       "      <td>0</td>\n",
       "    </tr>\n",
       "    <tr>\n",
       "      <th>12</th>\n",
       "      <td>0</td>\n",
       "      <td>99999999.0</td>\n",
       "      <td>740.0</td>\n",
       "      <td>776188.0</td>\n",
       "      <td>0</td>\n",
       "      <td>11578.22</td>\n",
       "      <td>8.5</td>\n",
       "      <td>25.0</td>\n",
       "      <td>6.0</td>\n",
       "      <td>0.0</td>\n",
       "      <td>...</td>\n",
       "      <td>0</td>\n",
       "      <td>0</td>\n",
       "      <td>0</td>\n",
       "      <td>0</td>\n",
       "      <td>0</td>\n",
       "      <td>0</td>\n",
       "      <td>0</td>\n",
       "      <td>0</td>\n",
       "      <td>0</td>\n",
       "      <td>0</td>\n",
       "    </tr>\n",
       "    <tr>\n",
       "      <th>14</th>\n",
       "      <td>0</td>\n",
       "      <td>234124.0</td>\n",
       "      <td>727.0</td>\n",
       "      <td>693234.0</td>\n",
       "      <td>10</td>\n",
       "      <td>14211.24</td>\n",
       "      <td>24.7</td>\n",
       "      <td>46.0</td>\n",
       "      <td>10.0</td>\n",
       "      <td>1.0</td>\n",
       "      <td>...</td>\n",
       "      <td>0</td>\n",
       "      <td>0</td>\n",
       "      <td>0</td>\n",
       "      <td>0</td>\n",
       "      <td>0</td>\n",
       "      <td>0</td>\n",
       "      <td>0</td>\n",
       "      <td>0</td>\n",
       "      <td>0</td>\n",
       "      <td>0</td>\n",
       "    </tr>\n",
       "    <tr>\n",
       "      <th>20</th>\n",
       "      <td>1</td>\n",
       "      <td>317108.0</td>\n",
       "      <td>687.0</td>\n",
       "      <td>1133274.0</td>\n",
       "      <td>8</td>\n",
       "      <td>9632.81</td>\n",
       "      <td>17.4</td>\n",
       "      <td>53.0</td>\n",
       "      <td>4.0</td>\n",
       "      <td>0.0</td>\n",
       "      <td>...</td>\n",
       "      <td>0</td>\n",
       "      <td>0</td>\n",
       "      <td>0</td>\n",
       "      <td>0</td>\n",
       "      <td>0</td>\n",
       "      <td>0</td>\n",
       "      <td>0</td>\n",
       "      <td>0</td>\n",
       "      <td>0</td>\n",
       "      <td>0</td>\n",
       "    </tr>\n",
       "    <tr>\n",
       "      <th>28</th>\n",
       "      <td>0</td>\n",
       "      <td>99999999.0</td>\n",
       "      <td>746.0</td>\n",
       "      <td>1749748.0</td>\n",
       "      <td>10</td>\n",
       "      <td>19247.19</td>\n",
       "      <td>20.0</td>\n",
       "      <td>32.0</td>\n",
       "      <td>17.0</td>\n",
       "      <td>0.0</td>\n",
       "      <td>...</td>\n",
       "      <td>0</td>\n",
       "      <td>0</td>\n",
       "      <td>0</td>\n",
       "      <td>0</td>\n",
       "      <td>0</td>\n",
       "      <td>0</td>\n",
       "      <td>0</td>\n",
       "      <td>0</td>\n",
       "      <td>0</td>\n",
       "      <td>0</td>\n",
       "    </tr>\n",
       "  </tbody>\n",
       "</table>\n",
       "<p>5 rows × 35 columns</p>\n",
       "</div>"
      ],
      "text/plain": [
       "    Loan Status  Current Loan Amount  Credit Score  Annual Income  \\\n",
       "8             0             548746.0         678.0      2559110.0   \n",
       "12            0           99999999.0         740.0       776188.0   \n",
       "14            0             234124.0         727.0       693234.0   \n",
       "20            1             317108.0         687.0      1133274.0   \n",
       "28            0           99999999.0         746.0      1749748.0   \n",
       "\n",
       "    Years in current job  Monthly Debt  Years of Credit History  \\\n",
       "8                      2      18660.28                     22.6   \n",
       "12                     0      11578.22                      8.5   \n",
       "14                    10      14211.24                     24.7   \n",
       "20                     8       9632.81                     17.4   \n",
       "28                    10      19247.19                     20.0   \n",
       "\n",
       "    Months since last delinquent  Number of Open Accounts  \\\n",
       "8                           33.0                      4.0   \n",
       "12                          25.0                      6.0   \n",
       "14                          46.0                     10.0   \n",
       "20                          53.0                      4.0   \n",
       "28                          32.0                     17.0   \n",
       "\n",
       "    Number of Credit Problems  ...  Purpose_Home Improvements  \\\n",
       "8                         0.0  ...                          0   \n",
       "12                        0.0  ...                          0   \n",
       "14                        1.0  ...                          0   \n",
       "20                        0.0  ...                          0   \n",
       "28                        0.0  ...                          0   \n",
       "\n",
       "    Purpose_Medical Bills  Purpose_Other  Purpose_Take a Trip  \\\n",
       "8                       0              0                    0   \n",
       "12                      0              0                    0   \n",
       "14                      0              0                    0   \n",
       "20                      0              0                    0   \n",
       "28                      0              0                    0   \n",
       "\n",
       "    Purpose_major_purchase  Purpose_moving  Purpose_renewable_energy  \\\n",
       "8                        0               0                         0   \n",
       "12                       0               0                         0   \n",
       "14                       0               0                         0   \n",
       "20                       0               0                         0   \n",
       "28                       0               0                         0   \n",
       "\n",
       "    Purpose_small_business  Purpose_vacation  Purpose_wedding  \n",
       "8                        0                 0                0  \n",
       "12                       0                 0                0  \n",
       "14                       0                 0                0  \n",
       "20                       0                 0                0  \n",
       "28                       0                 0                0  \n",
       "\n",
       "[5 rows x 35 columns]"
      ]
     },
     "execution_count": 61,
     "metadata": {},
     "output_type": "execute_result"
    }
   ],
   "source": [
    "full_data.head()"
   ]
  },
  {
   "cell_type": "code",
   "execution_count": 84,
   "metadata": {},
   "outputs": [
    {
     "data": {
      "text/plain": [
       "(15700, 35)"
      ]
     },
     "execution_count": 84,
     "metadata": {},
     "output_type": "execute_result"
    }
   ],
   "source": [
    "full_data.shape"
   ]
  },
  {
   "cell_type": "code",
   "execution_count": 85,
   "metadata": {},
   "outputs": [],
   "source": [
    "x_full_test=full_data.drop('Loan Status',axis=1)"
   ]
  },
  {
   "cell_type": "code",
   "execution_count": 64,
   "metadata": {},
   "outputs": [
    {
     "data": {
      "text/html": [
       "<div>\n",
       "<style scoped>\n",
       "    .dataframe tbody tr th:only-of-type {\n",
       "        vertical-align: middle;\n",
       "    }\n",
       "\n",
       "    .dataframe tbody tr th {\n",
       "        vertical-align: top;\n",
       "    }\n",
       "\n",
       "    .dataframe thead th {\n",
       "        text-align: right;\n",
       "    }\n",
       "</style>\n",
       "<table border=\"1\" class=\"dataframe\">\n",
       "  <thead>\n",
       "    <tr style=\"text-align: right;\">\n",
       "      <th></th>\n",
       "      <th>Current Loan Amount</th>\n",
       "      <th>Credit Score</th>\n",
       "      <th>Annual Income</th>\n",
       "      <th>Years in current job</th>\n",
       "      <th>Monthly Debt</th>\n",
       "      <th>Years of Credit History</th>\n",
       "      <th>Months since last delinquent</th>\n",
       "      <th>Number of Open Accounts</th>\n",
       "      <th>Number of Credit Problems</th>\n",
       "      <th>Current Credit Balance</th>\n",
       "      <th>...</th>\n",
       "      <th>Purpose_Home Improvements</th>\n",
       "      <th>Purpose_Medical Bills</th>\n",
       "      <th>Purpose_Other</th>\n",
       "      <th>Purpose_Take a Trip</th>\n",
       "      <th>Purpose_major_purchase</th>\n",
       "      <th>Purpose_moving</th>\n",
       "      <th>Purpose_renewable_energy</th>\n",
       "      <th>Purpose_small_business</th>\n",
       "      <th>Purpose_vacation</th>\n",
       "      <th>Purpose_wedding</th>\n",
       "    </tr>\n",
       "  </thead>\n",
       "  <tbody>\n",
       "    <tr>\n",
       "      <th>8</th>\n",
       "      <td>548746.0</td>\n",
       "      <td>678.0</td>\n",
       "      <td>2559110.0</td>\n",
       "      <td>2</td>\n",
       "      <td>18660.28</td>\n",
       "      <td>22.6</td>\n",
       "      <td>33.0</td>\n",
       "      <td>4.0</td>\n",
       "      <td>0.0</td>\n",
       "      <td>437171.0</td>\n",
       "      <td>...</td>\n",
       "      <td>0</td>\n",
       "      <td>0</td>\n",
       "      <td>0</td>\n",
       "      <td>0</td>\n",
       "      <td>0</td>\n",
       "      <td>0</td>\n",
       "      <td>0</td>\n",
       "      <td>0</td>\n",
       "      <td>0</td>\n",
       "      <td>0</td>\n",
       "    </tr>\n",
       "    <tr>\n",
       "      <th>12</th>\n",
       "      <td>99999999.0</td>\n",
       "      <td>740.0</td>\n",
       "      <td>776188.0</td>\n",
       "      <td>0</td>\n",
       "      <td>11578.22</td>\n",
       "      <td>8.5</td>\n",
       "      <td>25.0</td>\n",
       "      <td>6.0</td>\n",
       "      <td>0.0</td>\n",
       "      <td>134083.0</td>\n",
       "      <td>...</td>\n",
       "      <td>0</td>\n",
       "      <td>0</td>\n",
       "      <td>0</td>\n",
       "      <td>0</td>\n",
       "      <td>0</td>\n",
       "      <td>0</td>\n",
       "      <td>0</td>\n",
       "      <td>0</td>\n",
       "      <td>0</td>\n",
       "      <td>0</td>\n",
       "    </tr>\n",
       "    <tr>\n",
       "      <th>14</th>\n",
       "      <td>234124.0</td>\n",
       "      <td>727.0</td>\n",
       "      <td>693234.0</td>\n",
       "      <td>10</td>\n",
       "      <td>14211.24</td>\n",
       "      <td>24.7</td>\n",
       "      <td>46.0</td>\n",
       "      <td>10.0</td>\n",
       "      <td>1.0</td>\n",
       "      <td>28291.0</td>\n",
       "      <td>...</td>\n",
       "      <td>0</td>\n",
       "      <td>0</td>\n",
       "      <td>0</td>\n",
       "      <td>0</td>\n",
       "      <td>0</td>\n",
       "      <td>0</td>\n",
       "      <td>0</td>\n",
       "      <td>0</td>\n",
       "      <td>0</td>\n",
       "      <td>0</td>\n",
       "    </tr>\n",
       "    <tr>\n",
       "      <th>20</th>\n",
       "      <td>317108.0</td>\n",
       "      <td>687.0</td>\n",
       "      <td>1133274.0</td>\n",
       "      <td>8</td>\n",
       "      <td>9632.81</td>\n",
       "      <td>17.4</td>\n",
       "      <td>53.0</td>\n",
       "      <td>4.0</td>\n",
       "      <td>0.0</td>\n",
       "      <td>60287.0</td>\n",
       "      <td>...</td>\n",
       "      <td>0</td>\n",
       "      <td>0</td>\n",
       "      <td>0</td>\n",
       "      <td>0</td>\n",
       "      <td>0</td>\n",
       "      <td>0</td>\n",
       "      <td>0</td>\n",
       "      <td>0</td>\n",
       "      <td>0</td>\n",
       "      <td>0</td>\n",
       "    </tr>\n",
       "    <tr>\n",
       "      <th>28</th>\n",
       "      <td>99999999.0</td>\n",
       "      <td>746.0</td>\n",
       "      <td>1749748.0</td>\n",
       "      <td>10</td>\n",
       "      <td>19247.19</td>\n",
       "      <td>20.0</td>\n",
       "      <td>32.0</td>\n",
       "      <td>17.0</td>\n",
       "      <td>0.0</td>\n",
       "      <td>224390.0</td>\n",
       "      <td>...</td>\n",
       "      <td>0</td>\n",
       "      <td>0</td>\n",
       "      <td>0</td>\n",
       "      <td>0</td>\n",
       "      <td>0</td>\n",
       "      <td>0</td>\n",
       "      <td>0</td>\n",
       "      <td>0</td>\n",
       "      <td>0</td>\n",
       "      <td>0</td>\n",
       "    </tr>\n",
       "  </tbody>\n",
       "</table>\n",
       "<p>5 rows × 34 columns</p>\n",
       "</div>"
      ],
      "text/plain": [
       "    Current Loan Amount  Credit Score  Annual Income  Years in current job  \\\n",
       "8              548746.0         678.0      2559110.0                     2   \n",
       "12           99999999.0         740.0       776188.0                     0   \n",
       "14             234124.0         727.0       693234.0                    10   \n",
       "20             317108.0         687.0      1133274.0                     8   \n",
       "28           99999999.0         746.0      1749748.0                    10   \n",
       "\n",
       "    Monthly Debt  Years of Credit History  Months since last delinquent  \\\n",
       "8       18660.28                     22.6                          33.0   \n",
       "12      11578.22                      8.5                          25.0   \n",
       "14      14211.24                     24.7                          46.0   \n",
       "20       9632.81                     17.4                          53.0   \n",
       "28      19247.19                     20.0                          32.0   \n",
       "\n",
       "    Number of Open Accounts  Number of Credit Problems  \\\n",
       "8                       4.0                        0.0   \n",
       "12                      6.0                        0.0   \n",
       "14                     10.0                        1.0   \n",
       "20                      4.0                        0.0   \n",
       "28                     17.0                        0.0   \n",
       "\n",
       "    Current Credit Balance  ...  Purpose_Home Improvements  \\\n",
       "8                 437171.0  ...                          0   \n",
       "12                134083.0  ...                          0   \n",
       "14                 28291.0  ...                          0   \n",
       "20                 60287.0  ...                          0   \n",
       "28                224390.0  ...                          0   \n",
       "\n",
       "    Purpose_Medical Bills  Purpose_Other  Purpose_Take a Trip  \\\n",
       "8                       0              0                    0   \n",
       "12                      0              0                    0   \n",
       "14                      0              0                    0   \n",
       "20                      0              0                    0   \n",
       "28                      0              0                    0   \n",
       "\n",
       "    Purpose_major_purchase  Purpose_moving  Purpose_renewable_energy  \\\n",
       "8                        0               0                         0   \n",
       "12                       0               0                         0   \n",
       "14                       0               0                         0   \n",
       "20                       0               0                         0   \n",
       "28                       0               0                         0   \n",
       "\n",
       "    Purpose_small_business  Purpose_vacation  Purpose_wedding  \n",
       "8                        0                 0                0  \n",
       "12                       0                 0                0  \n",
       "14                       0                 0                0  \n",
       "20                       0                 0                0  \n",
       "28                       0                 0                0  \n",
       "\n",
       "[5 rows x 34 columns]"
      ]
     },
     "execution_count": 64,
     "metadata": {},
     "output_type": "execute_result"
    }
   ],
   "source": [
    "x_full_test.head()"
   ]
  },
  {
   "cell_type": "code",
   "execution_count": 86,
   "metadata": {},
   "outputs": [],
   "source": [
    "y_full_test=full_data['Loan Status']"
   ]
  },
  {
   "cell_type": "code",
   "execution_count": 87,
   "metadata": {},
   "outputs": [
    {
     "name": "stdout",
     "output_type": "stream",
     "text": [
      "full test score --> 0.7369426751592356\n",
      "\n",
      "\n",
      "Confusion Matrix:\n",
      "         Predicted 0  Predicted 1\n",
      "True 0         9808         2441\n",
      "True 1         1689         1762\n",
      "\n",
      "Classification report:\n",
      "\n",
      "               precision    recall  f1-score   support\n",
      "\n",
      "           0       0.85      0.80      0.83     12249\n",
      "           1       0.42      0.51      0.46      3451\n",
      "\n",
      "    accuracy                           0.74     15700\n",
      "   macro avg       0.64      0.66      0.64     15700\n",
      "weighted avg       0.76      0.74      0.75     15700\n",
      "\n",
      "--------------------------------------------------------------------------\n"
     ]
    }
   ],
   "source": [
    "print('full test score -->',dtree.score(x_full_test,y_full_test))\n",
    "y_pred=dtree.predict(x_full_test)\n",
    "cm=pd.DataFrame(confusion_matrix(y_full_test,y_pred),index=['True 0','True 1'],columns=['Predicted 0','Predicted 1'])\n",
    "print('\\n\\nConfusion Matrix:\\n',cm)\n",
    "print('\\nClassification report:\\n\\n',classification_report(y_full_test,y_pred))\n",
    "print('--------------------------------------------------------------------------')"
   ]
  },
  {
   "cell_type": "markdown",
   "metadata": {},
   "source": [
    "as we can see above from the whole imbalanced dataset we get a score of about 0.7369 which is better than 0.71119 which we got when we trained the model with the balanced dataset"
   ]
  },
  {
   "cell_type": "markdown",
   "metadata": {},
   "source": [
    "# Boosting "
   ]
  },
  {
   "cell_type": "code",
   "execution_count": 88,
   "metadata": {},
   "outputs": [],
   "source": [
    "from sklearn.ensemble import AdaBoostClassifier"
   ]
  },
  {
   "cell_type": "code",
   "execution_count": 90,
   "metadata": {},
   "outputs": [
    {
     "name": "stdout",
     "output_type": "stream",
     "text": [
      "\n",
      "For Learning rate = 0.01 and no of trees =  50\n",
      "\n",
      "Cross validation Training mean: 0.7211213501068122\n",
      "\n",
      "Training score without CV: 1.0\n",
      "\n",
      "Test score --> 0.7123809523809523\n",
      "\n",
      "\n",
      "Confusion Matrix:\n",
      "         Predicted 0  Predicted 1\n",
      "True 0         2413          580\n",
      "True 1          628          579\n",
      "\n",
      "Classification report:\n",
      "\n",
      "               precision    recall  f1-score   support\n",
      "\n",
      "           0       0.79      0.81      0.80      2993\n",
      "           1       0.50      0.48      0.49      1207\n",
      "\n",
      "    accuracy                           0.71      4200\n",
      "   macro avg       0.65      0.64      0.64      4200\n",
      "weighted avg       0.71      0.71      0.71      4200\n",
      "\n",
      "--------------------------------------------------------------------------\n",
      "\n",
      "For Learning rate = 0.01 and no of trees =  100\n",
      "\n",
      "Cross validation Training mean: 0.7257185501215957\n",
      "\n",
      "Training score without CV: 1.0\n",
      "\n",
      "Test score --> 0.7085714285714285\n",
      "\n",
      "\n",
      "Confusion Matrix:\n",
      "         Predicted 0  Predicted 1\n",
      "True 0         2357          636\n",
      "True 1          588          619\n",
      "\n",
      "Classification report:\n",
      "\n",
      "               precision    recall  f1-score   support\n",
      "\n",
      "           0       0.80      0.79      0.79      2993\n",
      "           1       0.49      0.51      0.50      1207\n",
      "\n",
      "    accuracy                           0.71      4200\n",
      "   macro avg       0.65      0.65      0.65      4200\n",
      "weighted avg       0.71      0.71      0.71      4200\n",
      "\n",
      "--------------------------------------------------------------------------\n",
      "\n",
      "For Learning rate = 0.01 and no of trees =  150\n",
      "\n",
      "Cross validation Training mean: 0.7265353974812497\n",
      "\n",
      "Training score without CV: 1.0\n",
      "\n",
      "Test score --> 0.7097619047619048\n",
      "\n",
      "\n",
      "Confusion Matrix:\n",
      "         Predicted 0  Predicted 1\n",
      "True 0         2365          628\n",
      "True 1          591          616\n",
      "\n",
      "Classification report:\n",
      "\n",
      "               precision    recall  f1-score   support\n",
      "\n",
      "           0       0.80      0.79      0.80      2993\n",
      "           1       0.50      0.51      0.50      1207\n",
      "\n",
      "    accuracy                           0.71      4200\n",
      "   macro avg       0.65      0.65      0.65      4200\n",
      "weighted avg       0.71      0.71      0.71      4200\n",
      "\n",
      "--------------------------------------------------------------------------\n",
      "\n",
      "For Learning rate = 0.01 and no of trees =  200\n",
      "\n",
      "Cross validation Training mean: 0.720408626029666\n",
      "\n",
      "Training score without CV: 1.0\n",
      "\n",
      "Test score --> 0.7016666666666667\n",
      "\n",
      "\n",
      "Confusion Matrix:\n",
      "         Predicted 0  Predicted 1\n",
      "True 0         2333          660\n",
      "True 1          593          614\n",
      "\n",
      "Classification report:\n",
      "\n",
      "               precision    recall  f1-score   support\n",
      "\n",
      "           0       0.80      0.78      0.79      2993\n",
      "           1       0.48      0.51      0.49      1207\n",
      "\n",
      "    accuracy                           0.70      4200\n",
      "   macro avg       0.64      0.64      0.64      4200\n",
      "weighted avg       0.71      0.70      0.70      4200\n",
      "\n",
      "--------------------------------------------------------------------------\n",
      "\n",
      "For Learning rate = 0.01 and no of trees =  250\n",
      "\n",
      "Cross validation Training mean: 0.7253109076853314\n",
      "\n",
      "Training score without CV: 1.0\n",
      "\n",
      "Test score --> 0.7161904761904762\n",
      "\n",
      "\n",
      "Confusion Matrix:\n",
      "         Predicted 0  Predicted 1\n",
      "True 0         2430          563\n",
      "True 1          629          578\n",
      "\n",
      "Classification report:\n",
      "\n",
      "               precision    recall  f1-score   support\n",
      "\n",
      "           0       0.79      0.81      0.80      2993\n",
      "           1       0.51      0.48      0.49      1207\n",
      "\n",
      "    accuracy                           0.72      4200\n",
      "   macro avg       0.65      0.65      0.65      4200\n",
      "weighted avg       0.71      0.72      0.71      4200\n",
      "\n",
      "--------------------------------------------------------------------------\n",
      "\n",
      "For Learning rate = 0.01 and no of trees =  300\n",
      "\n",
      "Cross validation Training mean: 0.7192854997438859\n",
      "\n",
      "Training score without CV: 1.0\n",
      "\n",
      "Test score --> 0.7076190476190476\n",
      "\n",
      "\n",
      "Confusion Matrix:\n",
      "         Predicted 0  Predicted 1\n",
      "True 0         2352          641\n",
      "True 1          587          620\n",
      "\n",
      "Classification report:\n",
      "\n",
      "               precision    recall  f1-score   support\n",
      "\n",
      "           0       0.80      0.79      0.79      2993\n",
      "           1       0.49      0.51      0.50      1207\n",
      "\n",
      "    accuracy                           0.71      4200\n",
      "   macro avg       0.65      0.65      0.65      4200\n",
      "weighted avg       0.71      0.71      0.71      4200\n",
      "\n",
      "--------------------------------------------------------------------------\n",
      "\n",
      "For Learning rate = 0.1 and no of trees =  50\n",
      "\n",
      "Cross validation Training mean: 0.7395969381659108\n",
      "\n",
      "Training score without CV: 1.0\n",
      "\n",
      "Test score --> 0.7264285714285714\n",
      "\n",
      "\n",
      "Confusion Matrix:\n",
      "         Predicted 0  Predicted 1\n",
      "True 0         2514          479\n",
      "True 1          670          537\n",
      "\n",
      "Classification report:\n",
      "\n",
      "               precision    recall  f1-score   support\n",
      "\n",
      "           0       0.79      0.84      0.81      2993\n",
      "           1       0.53      0.44      0.48      1207\n",
      "\n",
      "    accuracy                           0.73      4200\n",
      "   macro avg       0.66      0.64      0.65      4200\n",
      "weighted avg       0.71      0.73      0.72      4200\n",
      "\n",
      "--------------------------------------------------------------------------\n",
      "\n",
      "For Learning rate = 0.1 and no of trees =  100\n",
      "\n",
      "Cross validation Training mean: 0.7411267175837086\n",
      "\n",
      "Training score without CV: 1.0\n",
      "\n",
      "Test score --> 0.7216666666666667\n",
      "\n",
      "\n",
      "Confusion Matrix:\n",
      "         Predicted 0  Predicted 1\n",
      "True 0         2498          495\n",
      "True 1          674          533\n",
      "\n",
      "Classification report:\n",
      "\n",
      "               precision    recall  f1-score   support\n",
      "\n",
      "           0       0.79      0.83      0.81      2993\n",
      "           1       0.52      0.44      0.48      1207\n",
      "\n",
      "    accuracy                           0.72      4200\n",
      "   macro avg       0.65      0.64      0.64      4200\n",
      "weighted avg       0.71      0.72      0.71      4200\n",
      "\n",
      "--------------------------------------------------------------------------\n",
      "\n",
      "For Learning rate = 0.1 and no of trees =  150\n",
      "\n",
      "Cross validation Training mean: 0.7408211158575225\n",
      "\n",
      "Training score without CV: 1.0\n",
      "\n",
      "Test score --> 0.7271428571428571\n",
      "\n",
      "\n",
      "Confusion Matrix:\n",
      "         Predicted 0  Predicted 1\n",
      "True 0         2510          483\n",
      "True 1          663          544\n",
      "\n",
      "Classification report:\n",
      "\n",
      "               precision    recall  f1-score   support\n",
      "\n",
      "           0       0.79      0.84      0.81      2993\n",
      "           1       0.53      0.45      0.49      1207\n",
      "\n",
      "    accuracy                           0.73      4200\n",
      "   macro avg       0.66      0.64      0.65      4200\n",
      "weighted avg       0.72      0.73      0.72      4200\n",
      "\n",
      "--------------------------------------------------------------------------\n",
      "\n",
      "For Learning rate = 0.1 and no of trees =  200\n",
      "\n",
      "Cross validation Training mean: 0.743782382634663\n",
      "\n",
      "Training score without CV: 1.0\n",
      "\n",
      "Test score --> 0.7204761904761905\n",
      "\n",
      "\n",
      "Confusion Matrix:\n",
      "         Predicted 0  Predicted 1\n",
      "True 0         2493          500\n",
      "True 1          674          533\n",
      "\n",
      "Classification report:\n",
      "\n",
      "               precision    recall  f1-score   support\n",
      "\n",
      "           0       0.79      0.83      0.81      2993\n",
      "           1       0.52      0.44      0.48      1207\n",
      "\n",
      "    accuracy                           0.72      4200\n",
      "   macro avg       0.65      0.64      0.64      4200\n",
      "weighted avg       0.71      0.72      0.71      4200\n",
      "\n",
      "--------------------------------------------------------------------------\n",
      "\n",
      "For Learning rate = 0.1 and no of trees =  250\n",
      "\n",
      "Cross validation Training mean: 0.7423506347279891\n",
      "\n",
      "Training score without CV: 1.0\n",
      "\n",
      "Test score --> 0.7223809523809523\n",
      "\n",
      "\n",
      "Confusion Matrix:\n",
      "         Predicted 0  Predicted 1\n",
      "True 0         2492          501\n",
      "True 1          665          542\n",
      "\n",
      "Classification report:\n",
      "\n",
      "               precision    recall  f1-score   support\n",
      "\n",
      "           0       0.79      0.83      0.81      2993\n",
      "           1       0.52      0.45      0.48      1207\n",
      "\n",
      "    accuracy                           0.72      4200\n",
      "   macro avg       0.65      0.64      0.65      4200\n",
      "weighted avg       0.71      0.72      0.72      4200\n",
      "\n",
      "--------------------------------------------------------------------------\n",
      "\n",
      "For Learning rate = 0.1 and no of trees =  300\n",
      "\n",
      "Cross validation Training mean: 0.7447005422662251\n",
      "\n",
      "Training score without CV: 1.0\n",
      "\n",
      "Test score --> 0.7226190476190476\n",
      "\n",
      "\n",
      "Confusion Matrix:\n",
      "         Predicted 0  Predicted 1\n",
      "True 0         2497          496\n",
      "True 1          669          538\n",
      "\n",
      "Classification report:\n",
      "\n",
      "               precision    recall  f1-score   support\n",
      "\n",
      "           0       0.79      0.83      0.81      2993\n",
      "           1       0.52      0.45      0.48      1207\n",
      "\n",
      "    accuracy                           0.72      4200\n",
      "   macro avg       0.65      0.64      0.65      4200\n",
      "weighted avg       0.71      0.72      0.72      4200\n",
      "\n",
      "--------------------------------------------------------------------------\n",
      "\n",
      "For Learning rate = 0.5 and no of trees =  50\n",
      "\n",
      "Cross validation Training mean: 0.7450047903362689\n",
      "\n",
      "Training score without CV: 1.0\n",
      "\n",
      "Test score --> 0.7616666666666667\n",
      "\n",
      "\n",
      "Confusion Matrix:\n",
      "         Predicted 0  Predicted 1\n",
      "True 0         2779          214\n",
      "True 1          787          420\n",
      "\n",
      "Classification report:\n",
      "\n",
      "               precision    recall  f1-score   support\n",
      "\n",
      "           0       0.78      0.93      0.85      2993\n",
      "           1       0.66      0.35      0.46      1207\n",
      "\n",
      "    accuracy                           0.76      4200\n",
      "   macro avg       0.72      0.64      0.65      4200\n",
      "weighted avg       0.75      0.76      0.73      4200\n",
      "\n",
      "--------------------------------------------------------------------------\n",
      "\n",
      "For Learning rate = 0.5 and no of trees =  100\n",
      "\n",
      "Cross validation Training mean: 0.7400000511054201\n",
      "\n",
      "Training score without CV: 1.0\n",
      "\n",
      "Test score --> 0.7585714285714286\n",
      "\n",
      "\n",
      "Confusion Matrix:\n",
      "         Predicted 0  Predicted 1\n",
      "True 0         2775          218\n",
      "True 1          796          411\n",
      "\n",
      "Classification report:\n",
      "\n",
      "               precision    recall  f1-score   support\n",
      "\n",
      "           0       0.78      0.93      0.85      2993\n",
      "           1       0.65      0.34      0.45      1207\n",
      "\n",
      "    accuracy                           0.76      4200\n",
      "   macro avg       0.72      0.63      0.65      4200\n",
      "weighted avg       0.74      0.76      0.73      4200\n",
      "\n",
      "--------------------------------------------------------------------------\n",
      "\n",
      "For Learning rate = 0.5 and no of trees =  150\n",
      "\n",
      "Cross validation Training mean: 0.7456179722908857\n",
      "\n",
      "Training score without CV: 1.0\n",
      "\n",
      "Test score --> 0.7621428571428571\n",
      "\n",
      "\n",
      "Confusion Matrix:\n",
      "         Predicted 0  Predicted 1\n",
      "True 0         2783          210\n",
      "True 1          789          418\n",
      "\n",
      "Classification report:\n",
      "\n",
      "               precision    recall  f1-score   support\n",
      "\n",
      "           0       0.78      0.93      0.85      2993\n",
      "           1       0.67      0.35      0.46      1207\n",
      "\n",
      "    accuracy                           0.76      4200\n",
      "   macro avg       0.72      0.64      0.65      4200\n",
      "weighted avg       0.75      0.76      0.74      4200\n",
      "\n",
      "--------------------------------------------------------------------------\n",
      "\n",
      "For Learning rate = 0.5 and no of trees =  200\n",
      "\n",
      "Cross validation Training mean: 0.7381635239675469\n",
      "\n",
      "Training score without CV: 1.0\n",
      "\n",
      "Test score --> 0.7621428571428571\n",
      "\n",
      "\n",
      "Confusion Matrix:\n",
      "         Predicted 0  Predicted 1\n",
      "True 0         2789          204\n",
      "True 1          795          412\n",
      "\n",
      "Classification report:\n",
      "\n",
      "               precision    recall  f1-score   support\n",
      "\n",
      "           0       0.78      0.93      0.85      2993\n",
      "           1       0.67      0.34      0.45      1207\n",
      "\n",
      "    accuracy                           0.76      4200\n",
      "   macro avg       0.72      0.64      0.65      4200\n",
      "weighted avg       0.75      0.76      0.73      4200\n",
      "\n",
      "--------------------------------------------------------------------------\n",
      "\n",
      "For Learning rate = 0.5 and no of trees =  250\n",
      "\n",
      "Cross validation Training mean: 0.7435764269949432\n",
      "\n",
      "Training score without CV: 1.0\n",
      "\n",
      "Test score --> 0.7609523809523809\n",
      "\n",
      "\n",
      "Confusion Matrix:\n",
      "         Predicted 0  Predicted 1\n",
      "True 0         2776          217\n",
      "True 1          787          420\n",
      "\n",
      "Classification report:\n",
      "\n",
      "               precision    recall  f1-score   support\n",
      "\n",
      "           0       0.78      0.93      0.85      2993\n",
      "           1       0.66      0.35      0.46      1207\n",
      "\n",
      "    accuracy                           0.76      4200\n",
      "   macro avg       0.72      0.64      0.65      4200\n",
      "weighted avg       0.74      0.76      0.73      4200\n",
      "\n",
      "--------------------------------------------------------------------------\n",
      "\n",
      "For Learning rate = 0.5 and no of trees =  300\n",
      "\n",
      "Cross validation Training mean: 0.750106155705752\n",
      "\n",
      "Training score without CV: 1.0\n",
      "\n",
      "Test score --> 0.7621428571428571\n",
      "\n",
      "\n",
      "Confusion Matrix:\n",
      "         Predicted 0  Predicted 1\n",
      "True 0         2782          211\n",
      "True 1          788          419\n",
      "\n",
      "Classification report:\n",
      "\n",
      "               precision    recall  f1-score   support\n",
      "\n",
      "           0       0.78      0.93      0.85      2993\n",
      "           1       0.67      0.35      0.46      1207\n",
      "\n",
      "    accuracy                           0.76      4200\n",
      "   macro avg       0.72      0.64      0.65      4200\n",
      "weighted avg       0.75      0.76      0.74      4200\n",
      "\n",
      "--------------------------------------------------------------------------\n",
      "\n",
      "For Learning rate = 1 and no of trees =  50\n",
      "\n",
      "Cross validation Training mean: 0.7527626535306826\n",
      "\n",
      "Training score without CV: 1.0\n",
      "\n",
      "Test score --> 0.7695238095238095\n",
      "\n",
      "\n",
      "Confusion Matrix:\n",
      "         Predicted 0  Predicted 1\n",
      "True 0         2866          127\n",
      "True 1          841          366\n",
      "\n",
      "Classification report:\n",
      "\n",
      "               precision    recall  f1-score   support\n",
      "\n",
      "           0       0.77      0.96      0.86      2993\n",
      "           1       0.74      0.30      0.43      1207\n",
      "\n",
      "    accuracy                           0.77      4200\n",
      "   macro avg       0.76      0.63      0.64      4200\n",
      "weighted avg       0.76      0.77      0.73      4200\n",
      "\n",
      "--------------------------------------------------------------------------\n",
      "\n",
      "For Learning rate = 1 and no of trees =  100\n",
      "\n",
      "Cross validation Training mean: 0.756027856539181\n",
      "\n",
      "Training score without CV: 1.0\n",
      "\n",
      "Test score --> 0.7752380952380953\n",
      "\n",
      "\n",
      "Confusion Matrix:\n",
      "         Predicted 0  Predicted 1\n",
      "True 0         2919           74\n",
      "True 1          870          337\n",
      "\n",
      "Classification report:\n",
      "\n",
      "               precision    recall  f1-score   support\n",
      "\n",
      "           0       0.77      0.98      0.86      2993\n",
      "           1       0.82      0.28      0.42      1207\n",
      "\n",
      "    accuracy                           0.78      4200\n",
      "   macro avg       0.80      0.63      0.64      4200\n",
      "weighted avg       0.78      0.78      0.73      4200\n",
      "\n",
      "--------------------------------------------------------------------------\n",
      "\n",
      "For Learning rate = 1 and no of trees =  150\n",
      "\n",
      "Cross validation Training mean: 0.7604158208971985\n",
      "\n",
      "Training score without CV: 1.0\n",
      "\n",
      "Test score --> 0.7738095238095238\n",
      "\n",
      "\n",
      "Confusion Matrix:\n",
      "         Predicted 0  Predicted 1\n",
      "True 0         2928           65\n",
      "True 1          885          322\n",
      "\n",
      "Classification report:\n",
      "\n",
      "               precision    recall  f1-score   support\n",
      "\n",
      "           0       0.77      0.98      0.86      2993\n",
      "           1       0.83      0.27      0.40      1207\n",
      "\n",
      "    accuracy                           0.77      4200\n",
      "   macro avg       0.80      0.62      0.63      4200\n",
      "weighted avg       0.79      0.77      0.73      4200\n",
      "\n",
      "--------------------------------------------------------------------------\n",
      "\n",
      "For Learning rate = 1 and no of trees =  200\n",
      "\n",
      "Cross validation Training mean: 0.7591907583433941\n",
      "\n",
      "Training score without CV: 1.0\n",
      "\n",
      "Test score --> 0.7780952380952381\n",
      "\n",
      "\n",
      "Confusion Matrix:\n",
      "         Predicted 0  Predicted 1\n",
      "True 0         2942           51\n",
      "True 1          881          326\n",
      "\n",
      "Classification report:\n",
      "\n",
      "               precision    recall  f1-score   support\n",
      "\n",
      "           0       0.77      0.98      0.86      2993\n",
      "           1       0.86      0.27      0.41      1207\n",
      "\n",
      "    accuracy                           0.78      4200\n",
      "   macro avg       0.82      0.63      0.64      4200\n",
      "weighted avg       0.80      0.78      0.73      4200\n",
      "\n",
      "--------------------------------------------------------------------------\n",
      "\n",
      "For Learning rate = 1 and no of trees =  250\n",
      "\n",
      "Cross validation Training mean: 0.760007188837943\n",
      "\n",
      "Training score without CV: 1.0\n",
      "\n",
      "Test score --> 0.7766666666666666\n",
      "\n",
      "\n",
      "Confusion Matrix:\n",
      "         Predicted 0  Predicted 1\n",
      "True 0         2937           56\n",
      "True 1          882          325\n",
      "\n",
      "Classification report:\n",
      "\n",
      "               precision    recall  f1-score   support\n",
      "\n",
      "           0       0.77      0.98      0.86      2993\n",
      "           1       0.85      0.27      0.41      1207\n",
      "\n",
      "    accuracy                           0.78      4200\n",
      "   macro avg       0.81      0.63      0.64      4200\n",
      "weighted avg       0.79      0.78      0.73      4200\n",
      "\n",
      "--------------------------------------------------------------------------\n",
      "\n",
      "For Learning rate = 1 and no of trees =  300\n",
      "\n",
      "Cross validation Training mean: 0.761333719875181\n",
      "\n",
      "Training score without CV: 1.0\n",
      "\n",
      "Test score --> 0.7807142857142857\n",
      "\n",
      "\n",
      "Confusion Matrix:\n",
      "         Predicted 0  Predicted 1\n",
      "True 0         2958           35\n",
      "True 1          886          321\n",
      "\n",
      "Classification report:\n",
      "\n",
      "               precision    recall  f1-score   support\n",
      "\n",
      "           0       0.77      0.99      0.87      2993\n",
      "           1       0.90      0.27      0.41      1207\n",
      "\n",
      "    accuracy                           0.78      4200\n",
      "   macro avg       0.84      0.63      0.64      4200\n",
      "weighted avg       0.81      0.78      0.73      4200\n",
      "\n",
      "--------------------------------------------------------------------------\n"
     ]
    }
   ],
   "source": [
    "train_cv_array=[]\n",
    "train_score_array = []\n",
    "test_score_array = []\n",
    "\n",
    "for l in [0.01,0.1,0.5,1]:\n",
    "    for n in [50,100,150,200,250,300]:\n",
    "        bstdt = AdaBoostClassifier(dtree,n_estimators=n,learning_rate=l)\n",
    "        scores = cross_val_score(bstdt, x_train, y_train, cv=5)\n",
    "        bstdt.fit(x_train,y_train)\n",
    "        y_pred=bstdt.predict(x_test)\n",
    "        print('\\nFor Learning rate =',l,'and no of trees = ',n)\n",
    "        train_score_array.append(bstdt.score(x_train, y_train))\n",
    "        test_score_array.append(bstdt.score(x_test, y_test))\n",
    "        train_cv_array.append(scores.mean())\n",
    "        print('\\nCross validation Training mean:',scores.mean())\n",
    "        print('\\nTraining score without CV:',bstdt.score(x_train, y_train))\n",
    "        print('\\nTest score -->',bstdt.score(x_test, y_test))\n",
    "        cm=pd.DataFrame(confusion_matrix(y_test,y_pred),index=['True 0','True 1'],columns=['Predicted 0','Predicted 1'])\n",
    "        print('\\n\\nConfusion Matrix:\\n',cm)\n",
    "        print('\\nClassification report:\\n\\n',classification_report(y_test,y_pred))\n",
    "        print('--------------------------------------------------------------------------')\n",
    "    \n",
    "        "
   ]
  },
  {
   "cell_type": "markdown",
   "metadata": {},
   "source": [
    "From the above results we can see that for Learning rate of 0.01 and n_estimators =100 we get a test score of 0.7085 with f1score\n",
    "for 0 as 0.79 and for 1 as 0.50 and the previous decision tree whose scores are test:0.71119 and f1score\n",
    "for 0 as 0.80 and for 1 as 0.51\n",
    " \n",
    "But for the other combinations of the model, boosting did really increased the accuracy score upto 0.79 and Note: eventhough we get more accuracy score(0.79) in other learning rate and n_estimators combinations we didnt choose them because, for those models the f1_scores are less than Plain decision tree model without boosting hence we chose a optimal one"
   ]
  },
  {
   "cell_type": "code",
   "execution_count": null,
   "metadata": {},
   "outputs": [],
   "source": [
    "#  dtree image pend"
   ]
  },
  {
   "cell_type": "markdown",
   "metadata": {},
   "source": [
    "# Support Vector Machines"
   ]
  },
  {
   "cell_type": "markdown",
   "metadata": {},
   "source": [
    "##  ♦ Linear SVC"
   ]
  },
  {
   "cell_type": "code",
   "execution_count": 91,
   "metadata": {},
   "outputs": [],
   "source": [
    "from sklearn.svm import LinearSVC"
   ]
  },
  {
   "cell_type": "markdown",
   "metadata": {},
   "source": [
    "Unlike Decision Tree algorithms, we need to standardize the dataset before doing the linear svc"
   ]
  },
  {
   "cell_type": "code",
   "execution_count": 92,
   "metadata": {},
   "outputs": [],
   "source": [
    "from sklearn.preprocessing import StandardScaler"
   ]
  },
  {
   "cell_type": "code",
   "execution_count": 93,
   "metadata": {},
   "outputs": [],
   "source": [
    "scale = StandardScaler()"
   ]
  },
  {
   "cell_type": "code",
   "execution_count": 94,
   "metadata": {},
   "outputs": [],
   "source": [
    "x_train_sc=scale.fit_transform(x_train)"
   ]
  },
  {
   "cell_type": "code",
   "execution_count": 95,
   "metadata": {},
   "outputs": [],
   "source": [
    "x_test_sc=scale.transform(x_test)"
   ]
  },
  {
   "cell_type": "code",
   "execution_count": 96,
   "metadata": {},
   "outputs": [
    {
     "name": "stdout",
     "output_type": "stream",
     "text": [
      "\n",
      "For C = 0.1\n",
      "\n",
      "Cross validation Training mean: 0.7898979652213151\n",
      "Training score without CV: 0.7910204081632654\n",
      "Test score --> 0.7821428571428571\n",
      "\n",
      "\n",
      "Confusion Matrix:\n",
      "         Predicted 0  Predicted 1\n",
      "True 0         2987            6\n",
      "True 1          909          298\n",
      "\n",
      "Classification report:\n",
      "\n",
      "               precision    recall  f1-score   support\n",
      "\n",
      "           0       0.77      1.00      0.87      2993\n",
      "           1       0.98      0.25      0.39      1207\n",
      "\n",
      "    accuracy                           0.78      4200\n",
      "   macro avg       0.87      0.62      0.63      4200\n",
      "weighted avg       0.83      0.78      0.73      4200\n",
      "\n",
      "--------------------------------------------------------------------------\n"
     ]
    },
    {
     "name": "stderr",
     "output_type": "stream",
     "text": [
      "C:\\Users\\munikrishnan\\Anaconda3\\lib\\site-packages\\sklearn\\svm\\base.py:929: ConvergenceWarning: Liblinear failed to converge, increase the number of iterations.\n",
      "  \"the number of iterations.\", ConvergenceWarning)\n",
      "C:\\Users\\munikrishnan\\Anaconda3\\lib\\site-packages\\sklearn\\svm\\base.py:929: ConvergenceWarning: Liblinear failed to converge, increase the number of iterations.\n",
      "  \"the number of iterations.\", ConvergenceWarning)\n",
      "C:\\Users\\munikrishnan\\Anaconda3\\lib\\site-packages\\sklearn\\svm\\base.py:929: ConvergenceWarning: Liblinear failed to converge, increase the number of iterations.\n",
      "  \"the number of iterations.\", ConvergenceWarning)\n"
     ]
    },
    {
     "name": "stdout",
     "output_type": "stream",
     "text": [
      "\n",
      "For C = 1\n",
      "\n",
      "Cross validation Training mean: 0.7898979652213151\n"
     ]
    },
    {
     "name": "stderr",
     "output_type": "stream",
     "text": [
      "C:\\Users\\munikrishnan\\Anaconda3\\lib\\site-packages\\sklearn\\svm\\base.py:929: ConvergenceWarning: Liblinear failed to converge, increase the number of iterations.\n",
      "  \"the number of iterations.\", ConvergenceWarning)\n"
     ]
    },
    {
     "name": "stdout",
     "output_type": "stream",
     "text": [
      "Training score without CV: 0.7909183673469388\n",
      "Test score --> 0.7821428571428571\n",
      "\n",
      "\n",
      "Confusion Matrix:\n",
      "         Predicted 0  Predicted 1\n",
      "True 0         2987            6\n",
      "True 1          909          298\n",
      "\n",
      "Classification report:\n",
      "\n",
      "               precision    recall  f1-score   support\n",
      "\n",
      "           0       0.77      1.00      0.87      2993\n",
      "           1       0.98      0.25      0.39      1207\n",
      "\n",
      "    accuracy                           0.78      4200\n",
      "   macro avg       0.87      0.62      0.63      4200\n",
      "weighted avg       0.83      0.78      0.73      4200\n",
      "\n",
      "--------------------------------------------------------------------------\n"
     ]
    },
    {
     "name": "stderr",
     "output_type": "stream",
     "text": [
      "C:\\Users\\munikrishnan\\Anaconda3\\lib\\site-packages\\sklearn\\svm\\base.py:929: ConvergenceWarning: Liblinear failed to converge, increase the number of iterations.\n",
      "  \"the number of iterations.\", ConvergenceWarning)\n",
      "C:\\Users\\munikrishnan\\Anaconda3\\lib\\site-packages\\sklearn\\svm\\base.py:929: ConvergenceWarning: Liblinear failed to converge, increase the number of iterations.\n",
      "  \"the number of iterations.\", ConvergenceWarning)\n",
      "C:\\Users\\munikrishnan\\Anaconda3\\lib\\site-packages\\sklearn\\svm\\base.py:929: ConvergenceWarning: Liblinear failed to converge, increase the number of iterations.\n",
      "  \"the number of iterations.\", ConvergenceWarning)\n"
     ]
    },
    {
     "name": "stdout",
     "output_type": "stream",
     "text": [
      "\n",
      "For C = 10\n",
      "\n",
      "Cross validation Training mean: 0.7907143021823199\n"
     ]
    },
    {
     "name": "stderr",
     "output_type": "stream",
     "text": [
      "C:\\Users\\munikrishnan\\Anaconda3\\lib\\site-packages\\sklearn\\svm\\base.py:929: ConvergenceWarning: Liblinear failed to converge, increase the number of iterations.\n",
      "  \"the number of iterations.\", ConvergenceWarning)\n"
     ]
    },
    {
     "name": "stdout",
     "output_type": "stream",
     "text": [
      "Training score without CV: 0.7907142857142857\n",
      "Test score --> 0.7816666666666666\n",
      "\n",
      "\n",
      "Confusion Matrix:\n",
      "         Predicted 0  Predicted 1\n",
      "True 0         2985            8\n",
      "True 1          909          298\n",
      "\n",
      "Classification report:\n",
      "\n",
      "               precision    recall  f1-score   support\n",
      "\n",
      "           0       0.77      1.00      0.87      2993\n",
      "           1       0.97      0.25      0.39      1207\n",
      "\n",
      "    accuracy                           0.78      4200\n",
      "   macro avg       0.87      0.62      0.63      4200\n",
      "weighted avg       0.83      0.78      0.73      4200\n",
      "\n",
      "--------------------------------------------------------------------------\n"
     ]
    },
    {
     "name": "stderr",
     "output_type": "stream",
     "text": [
      "C:\\Users\\munikrishnan\\Anaconda3\\lib\\site-packages\\sklearn\\svm\\base.py:929: ConvergenceWarning: Liblinear failed to converge, increase the number of iterations.\n",
      "  \"the number of iterations.\", ConvergenceWarning)\n",
      "C:\\Users\\munikrishnan\\Anaconda3\\lib\\site-packages\\sklearn\\svm\\base.py:929: ConvergenceWarning: Liblinear failed to converge, increase the number of iterations.\n",
      "  \"the number of iterations.\", ConvergenceWarning)\n",
      "C:\\Users\\munikrishnan\\Anaconda3\\lib\\site-packages\\sklearn\\svm\\base.py:929: ConvergenceWarning: Liblinear failed to converge, increase the number of iterations.\n",
      "  \"the number of iterations.\", ConvergenceWarning)\n"
     ]
    },
    {
     "name": "stdout",
     "output_type": "stream",
     "text": [
      "\n",
      "For C = 15\n",
      "\n",
      "Cross validation Training mean: 0.7900001205870678\n"
     ]
    },
    {
     "name": "stderr",
     "output_type": "stream",
     "text": [
      "C:\\Users\\munikrishnan\\Anaconda3\\lib\\site-packages\\sklearn\\svm\\base.py:929: ConvergenceWarning: Liblinear failed to converge, increase the number of iterations.\n",
      "  \"the number of iterations.\", ConvergenceWarning)\n"
     ]
    },
    {
     "name": "stdout",
     "output_type": "stream",
     "text": [
      "Training score without CV: 0.789795918367347\n",
      "Test score --> 0.7816666666666666\n",
      "\n",
      "\n",
      "Confusion Matrix:\n",
      "         Predicted 0  Predicted 1\n",
      "True 0         2974           19\n",
      "True 1          898          309\n",
      "\n",
      "Classification report:\n",
      "\n",
      "               precision    recall  f1-score   support\n",
      "\n",
      "           0       0.77      0.99      0.87      2993\n",
      "           1       0.94      0.26      0.40      1207\n",
      "\n",
      "    accuracy                           0.78      4200\n",
      "   macro avg       0.86      0.62      0.63      4200\n",
      "weighted avg       0.82      0.78      0.73      4200\n",
      "\n",
      "--------------------------------------------------------------------------\n"
     ]
    },
    {
     "name": "stderr",
     "output_type": "stream",
     "text": [
      "C:\\Users\\munikrishnan\\Anaconda3\\lib\\site-packages\\sklearn\\svm\\base.py:929: ConvergenceWarning: Liblinear failed to converge, increase the number of iterations.\n",
      "  \"the number of iterations.\", ConvergenceWarning)\n",
      "C:\\Users\\munikrishnan\\Anaconda3\\lib\\site-packages\\sklearn\\svm\\base.py:929: ConvergenceWarning: Liblinear failed to converge, increase the number of iterations.\n",
      "  \"the number of iterations.\", ConvergenceWarning)\n",
      "C:\\Users\\munikrishnan\\Anaconda3\\lib\\site-packages\\sklearn\\svm\\base.py:929: ConvergenceWarning: Liblinear failed to converge, increase the number of iterations.\n",
      "  \"the number of iterations.\", ConvergenceWarning)\n"
     ]
    },
    {
     "name": "stdout",
     "output_type": "stream",
     "text": [
      "\n",
      "For C = 20\n",
      "\n",
      "Cross validation Training mean: 0.7893879069165305\n",
      "Training score without CV: 0.7905102040816326\n",
      "Test score --> 0.7814285714285715\n",
      "\n",
      "\n",
      "Confusion Matrix:\n",
      "         Predicted 0  Predicted 1\n",
      "True 0         2983           10\n",
      "True 1          908          299\n",
      "\n",
      "Classification report:\n",
      "\n",
      "               precision    recall  f1-score   support\n",
      "\n",
      "           0       0.77      1.00      0.87      2993\n",
      "           1       0.97      0.25      0.39      1207\n",
      "\n",
      "    accuracy                           0.78      4200\n",
      "   macro avg       0.87      0.62      0.63      4200\n",
      "weighted avg       0.82      0.78      0.73      4200\n",
      "\n",
      "--------------------------------------------------------------------------\n"
     ]
    },
    {
     "name": "stderr",
     "output_type": "stream",
     "text": [
      "C:\\Users\\munikrishnan\\Anaconda3\\lib\\site-packages\\sklearn\\svm\\base.py:929: ConvergenceWarning: Liblinear failed to converge, increase the number of iterations.\n",
      "  \"the number of iterations.\", ConvergenceWarning)\n"
     ]
    }
   ],
   "source": [
    "train_cv_array=[]\n",
    "train_score_array = []\n",
    "test_score_array = []\n",
    "\n",
    "for p in [0.1,1,10,15,20]:\n",
    "    linsvc = LinearSVC(C=p,max_iter=10000,random_state=999)\n",
    "    scores = cross_val_score(linsvc, x_train_sc, y_train, cv=3)\n",
    "    print('\\nFor C =',p)\n",
    "    print('\\nCross validation Training mean:',scores.mean())\n",
    "    linsvc.fit(x_train_sc,y_train)\n",
    "    y_pred=linsvc.predict(x_test_sc)\n",
    "    train_score_array.append(linsvc.score(x_train_sc, y_train))\n",
    "    test_score_array.append(linsvc.score(x_test_sc, y_test))\n",
    "    train_cv_array.append(scores.mean())\n",
    "    print('Training score without CV:',linsvc.score(x_train_sc, y_train))\n",
    "    print('Test score -->',linsvc.score(x_test_sc, y_test))\n",
    "    cm=pd.DataFrame(confusion_matrix(y_test,y_pred),index=['True 0','True 1'],columns=['Predicted 0','Predicted 1'])\n",
    "    print('\\n\\nConfusion Matrix:\\n',cm)\n",
    "    print('\\nClassification report:\\n\\n',classification_report(y_test,y_pred))\n",
    "    print('--------------------------------------------------------------------------')\n",
    "    "
   ]
  },
  {
   "cell_type": "markdown",
   "metadata": {},
   "source": [
    "From the above results we can see that the accuracy score has been increased to 0.79 when compared with decision tree's accuracy which is of 0.71, but when we see the f1_score the values are lesser than the Decision tree.\n",
    "\n",
    "Hence C=15 will be considered as best parameter for linear SVC with an accuray of 0.79"
   ]
  },
  {
   "cell_type": "code",
   "execution_count": 97,
   "metadata": {},
   "outputs": [
    {
     "data": {
      "image/png": "[encoded data removed]",
      "text/plain": [
       "<Figure size 864x576 with 1 Axes>"
      ]
     },
     "metadata": {
      "needs_background": "light"
     },
     "output_type": "display_data"
    }
   ],
   "source": [
    "plt.figure(figsize=(12,8))\n",
    "x_axis = [0.1,1,10,15,20]\n",
    "plt.plot(x_axis, train_score_array, c = 'g', label = 'Train Score')\n",
    "plt.plot(x_axis, test_score_array, c = 'b', label = 'Test Score')\n",
    "plt.legend()\n",
    "plt.title('Train score vs Test score without Cross validation',fontsize=20)\n",
    "plt.xlabel('C- Penalty',fontsize=14)\n",
    "plt.ylabel('Accuracy score',fontsize=14)\n",
    "plt.show()"
   ]
  },
  {
   "cell_type": "code",
   "execution_count": 98,
   "metadata": {},
   "outputs": [
    {
     "data": {
      "image/png": "[encoded data removed]",
      "text/plain": [
       "<Figure size 864x576 with 1 Axes>"
      ]
     },
     "metadata": {
      "needs_background": "light"
     },
     "output_type": "display_data"
    }
   ],
   "source": [
    "plt.figure(figsize=(12,8))\n",
    "x_axis = [0.1,1,10,15,20]\n",
    "plt.plot(x_axis, train_cv_array, c = 'g', label = 'Train Score')\n",
    "plt.plot(x_axis, test_score_array, c = 'b', label = 'Test Score')\n",
    "plt.legend()\n",
    "plt.title('Train score vs Test score with Cross validation',fontsize=20)\n",
    "plt.xlabel('C- Penalty',fontsize=14)\n",
    "plt.ylabel('Accuracy score',fontsize=14)\n",
    "plt.show()"
   ]
  },
  {
   "cell_type": "markdown",
   "metadata": {},
   "source": [
    "## ♦ SVC With Linear Kernel"
   ]
  },
  {
   "cell_type": "markdown",
   "metadata": {},
   "source": [
    "Similar to LinearSVC with parameter kernel='linear', but implemented in terms of\n",
    "libsvm rather than liblinear , so it has more flexibility in the choice of\n",
    "penalties and loss functions and should scale better to large numbers of\n",
    "samples."
   ]
  },
  {
   "cell_type": "code",
   "execution_count": 99,
   "metadata": {},
   "outputs": [],
   "source": [
    "from sklearn.svm import SVC"
   ]
  },
  {
   "cell_type": "code",
   "execution_count": 100,
   "metadata": {},
   "outputs": [
    {
     "name": "stdout",
     "output_type": "stream",
     "text": [
      "\n",
      "For C = 0.1\n",
      "\n",
      "Cross validation Training mean: 0.7902040876766702\n",
      "Training score without CV: 0.7905102040816326\n",
      "Test score --> 0.7833333333333333\n",
      "\n",
      "\n",
      "Confusion Matrix:\n",
      "         Predicted 0  Predicted 1\n",
      "True 0         2993            0\n",
      "True 1          910          297\n",
      "\n",
      "Classification report:\n",
      "\n",
      "               precision    recall  f1-score   support\n",
      "\n",
      "           0       0.77      1.00      0.87      2993\n",
      "           1       1.00      0.25      0.39      1207\n",
      "\n",
      "    accuracy                           0.78      4200\n",
      "   macro avg       0.88      0.62      0.63      4200\n",
      "weighted avg       0.83      0.78      0.73      4200\n",
      "\n",
      "--------------------------------------------------------------------------\n",
      "\n",
      "For C = 1\n",
      "\n",
      "Cross validation Training mean: 0.7902040876766702\n",
      "Training score without CV: 0.7905102040816326\n",
      "Test score --> 0.7833333333333333\n",
      "\n",
      "\n",
      "Confusion Matrix:\n",
      "         Predicted 0  Predicted 1\n",
      "True 0         2993            0\n",
      "True 1          910          297\n",
      "\n",
      "Classification report:\n",
      "\n",
      "               precision    recall  f1-score   support\n",
      "\n",
      "           0       0.77      1.00      0.87      2993\n",
      "           1       1.00      0.25      0.39      1207\n",
      "\n",
      "    accuracy                           0.78      4200\n",
      "   macro avg       0.88      0.62      0.63      4200\n",
      "weighted avg       0.83      0.78      0.73      4200\n",
      "\n",
      "--------------------------------------------------------------------------\n",
      "\n",
      "For C = 10\n",
      "\n",
      "Cross validation Training mean: 0.7902040876766702\n",
      "Training score without CV: 0.7905102040816326\n",
      "Test score --> 0.7833333333333333\n",
      "\n",
      "\n",
      "Confusion Matrix:\n",
      "         Predicted 0  Predicted 1\n",
      "True 0         2993            0\n",
      "True 1          910          297\n",
      "\n",
      "Classification report:\n",
      "\n",
      "               precision    recall  f1-score   support\n",
      "\n",
      "           0       0.77      1.00      0.87      2993\n",
      "           1       1.00      0.25      0.39      1207\n",
      "\n",
      "    accuracy                           0.78      4200\n",
      "   macro avg       0.88      0.62      0.63      4200\n",
      "weighted avg       0.83      0.78      0.73      4200\n",
      "\n",
      "--------------------------------------------------------------------------\n",
      "\n",
      "For C = 15\n",
      "\n",
      "Cross validation Training mean: 0.7902040876766702\n",
      "Training score without CV: 0.7905102040816326\n",
      "Test score --> 0.7833333333333333\n",
      "\n",
      "\n",
      "Confusion Matrix:\n",
      "         Predicted 0  Predicted 1\n",
      "True 0         2993            0\n",
      "True 1          910          297\n",
      "\n",
      "Classification report:\n",
      "\n",
      "               precision    recall  f1-score   support\n",
      "\n",
      "           0       0.77      1.00      0.87      2993\n",
      "           1       1.00      0.25      0.39      1207\n",
      "\n",
      "    accuracy                           0.78      4200\n",
      "   macro avg       0.88      0.62      0.63      4200\n",
      "weighted avg       0.83      0.78      0.73      4200\n",
      "\n",
      "--------------------------------------------------------------------------\n",
      "\n",
      "For C = 20\n",
      "\n",
      "Cross validation Training mean: 0.7902040876766702\n",
      "Training score without CV: 0.7905102040816326\n",
      "Test score --> 0.7833333333333333\n",
      "\n",
      "\n",
      "Confusion Matrix:\n",
      "         Predicted 0  Predicted 1\n",
      "True 0         2993            0\n",
      "True 1          910          297\n",
      "\n",
      "Classification report:\n",
      "\n",
      "               precision    recall  f1-score   support\n",
      "\n",
      "           0       0.77      1.00      0.87      2993\n",
      "           1       1.00      0.25      0.39      1207\n",
      "\n",
      "    accuracy                           0.78      4200\n",
      "   macro avg       0.88      0.62      0.63      4200\n",
      "weighted avg       0.83      0.78      0.73      4200\n",
      "\n",
      "--------------------------------------------------------------------------\n"
     ]
    }
   ],
   "source": [
    "train_cv_array=[]\n",
    "train_score_array = []\n",
    "test_score_array = []\n",
    "\n",
    "for p in [0.1,1,10,15,20]:\n",
    "    svclink = SVC(C=p,kernel='linear',random_state=999)\n",
    "    scores = cross_val_score(svclink, x_train_sc, y_train, cv=3)\n",
    "    print('\\nFor C =',p)\n",
    "    print('\\nCross validation Training mean:',scores.mean())\n",
    "    svclink.fit(x_train_sc,y_train)\n",
    "    y_pred=svclink.predict(x_test_sc)\n",
    "    train_score_array.append(svclink.score(x_train_sc, y_train))\n",
    "    test_score_array.append(svclink.score(x_test_sc, y_test))\n",
    "    train_cv_array.append(scores.mean())\n",
    "    print('Training score without CV:',svclink.score(x_train_sc, y_train))\n",
    "    print('Test score -->',svclink.score(x_test_sc, y_test))\n",
    "    cm=pd.DataFrame(confusion_matrix(y_test,y_pred),index=['True 0','True 1'],columns=['Predicted 0','Predicted 1'])\n",
    "    print('\\n\\nConfusion Matrix:\\n',cm)\n",
    "    print('\\nClassification report:\\n\\n',classification_report(y_test,y_pred))\n",
    "    print('--------------------------------------------------------------------------')\n",
    "    "
   ]
  },
  {
   "cell_type": "code",
   "execution_count": null,
   "metadata": {},
   "outputs": [],
   "source": []
  }
 ],
 "metadata": {
  "kernelspec": {
   "display_name": "Python 3",
   "language": "python",
   "name": "python3"
  },
  "language_info": {
   "codemirror_mode": {
    "name": "ipython",
    "version": 3
   },
   "file_extension": ".py",
   "mimetype": "text/x-python",
   "name": "python",
   "nbconvert_exporter": "python",
   "pygments_lexer": "ipython3",
   "version": "3.7.3"
  }
 },
 "nbformat": 4,
 "nbformat_minor": 2
}
